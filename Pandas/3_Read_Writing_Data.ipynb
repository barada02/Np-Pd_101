{
 "cells": [
  {
   "cell_type": "markdown",
   "id": "c734e0df",
   "metadata": {},
   "source": [
    "# File I/O (Reading and Writing Data)\n",
    "🔹 Why is this important?\n",
    "Whether you're working on:\n",
    "  * A dataset from Kaggle,\n",
    "\n",
    "   * A file exported from SQL,\n",
    "\n",
    "   * Or data collected via APIs,\n",
    "\n",
    "You'll need to **read and write** data efficiently.\n",
    "Pandas makes this super easy!\n",
    "\n"
   ]
  },
  {
   "cell_type": "markdown",
   "id": "e2c46a57",
   "metadata": {},
   "source": [
    "### 🔽 Reading Data\n"
   ]
  }
 ],
 "metadata": {
  "kernelspec": {
   "display_name": "base",
   "language": "python",
   "name": "python3"
  },
  "language_info": {
   "name": "python",
   "version": "3.12.4"
  }
 },
 "nbformat": 4,
 "nbformat_minor": 5
}
