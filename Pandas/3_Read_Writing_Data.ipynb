{
 "cells": [
  {
   "cell_type": "markdown",
   "id": "c734e0df",
   "metadata": {},
   "source": [
    "# File I/O (Reading and Writing Data)\n",
    "🔹 Why is this important?\n",
    "Whether you're working on:\n",
    "  * A dataset from Kaggle,\n",
    "\n",
    "   * A file exported from SQL,\n",
    "\n",
    "   * Or data collected via APIs,\n",
    "\n",
    "You'll need to **read and write** data efficiently.\n",
    "Pandas makes this super easy!\n",
    "\n"
   ]
  },
  {
   "cell_type": "markdown",
   "id": "e2c46a57",
   "metadata": {},
   "source": [
    "### 🔽 Reading Data\n"
   ]
  },
  {
   "cell_type": "code",
   "execution_count": 1,
   "id": "95cb2ddc",
   "metadata": {},
   "outputs": [],
   "source": [
    "import pandas as pd"
   ]
  },
  {
   "cell_type": "markdown",
   "id": "7b075780",
   "metadata": {},
   "source": [
    "#### ✅ 1. CSV File"
   ]
  },
  {
   "cell_type": "code",
   "execution_count": 2,
   "id": "269e6581",
   "metadata": {},
   "outputs": [
    {
     "name": "stdout",
     "output_type": "stream",
     "text": [
      "      Name  Age  Income\n",
      "0      Rob   27   70000\n",
      "1  Michael   29   90000\n",
      "2    Mohan   29   61000\n",
      "3   Ismail   28   60000\n",
      "4     Kory   42  150000\n"
     ]
    }
   ],
   "source": [
    "df = pd.read_csv('income.csv')\n",
    "print(df.head())"
   ]
  }
 ],
 "metadata": {
  "kernelspec": {
   "display_name": "base",
   "language": "python",
   "name": "python3"
  },
  "language_info": {
   "codemirror_mode": {
    "name": "ipython",
    "version": 3
   },
   "file_extension": ".py",
   "mimetype": "text/x-python",
   "name": "python",
   "nbconvert_exporter": "python",
   "pygments_lexer": "ipython3",
   "version": "3.12.4"
  }
 },
 "nbformat": 4,
 "nbformat_minor": 5
}
