{
 "cells": [
  {
   "cell_type": "markdown",
   "id": "19c7f616",
   "metadata": {},
   "source": [
    "# Pandas Series"
   ]
  },
  {
   "cell_type": "markdown",
   "id": "7aa28989",
   "metadata": {},
   "source": [
    "#### What is a Pandas Series?\n",
    "A Pandas Series is a one-dimensional labeled array that can hold data of any type (integers, strings, floats, Python objects, etc.).\n",
    "\n",
    "Think of it like:\n",
    "\n",
    " * A NumPy array + labels (index).\n",
    "\n",
    " * Or a single column from a DataFrame."
   ]
  },
  {
   "cell_type": "code",
   "execution_count": 5,
   "id": "3128d8d4",
   "metadata": {},
   "outputs": [
    {
     "name": "stdout",
     "output_type": "stream",
     "text": [
      "0     80\n",
      "1     55\n",
      "2     69\n",
      "3     90\n",
      "4    120\n",
      "dtype: int64\n"
     ]
    }
   ],
   "source": [
    "import pandas as pd\n",
    "scores = [80,55,69,90,120]\n",
    "s = pd.Series(scores)\n",
    "print(s)"
   ]
  },
  {
   "cell_type": "markdown",
   "id": "bf2e747c",
   "metadata": {},
   "source": [
    "##### Series with Custom index"
   ]
  },
  {
   "cell_type": "code",
   "execution_count": 6,
   "id": "1b4346e0",
   "metadata": {},
   "outputs": [
    {
     "name": "stdout",
     "output_type": "stream",
     "text": [
      "Dhoni            80\n",
      "Gambhir          55\n",
      "Hardik           69\n",
      "Virat            90\n",
      "Yuvraj Singh    120\n",
      "dtype: int64\n"
     ]
    }
   ],
   "source": [
    "s2 = pd.Series(scores,index = [\"Dhoni\",\"Gambhir\",\"Hardik\",\"Virat\",\"Yuvraj Singh\"])\n",
    "print(s2)\n"
   ]
  },
  {
   "cell_type": "markdown",
   "id": "1279796a",
   "metadata": {},
   "source": [
    "#### From a dictionary"
   ]
  },
  {
   "cell_type": "code",
   "execution_count": 7,
   "id": "c8e6ab9b",
   "metadata": {},
   "outputs": [
    {
     "name": "stdout",
     "output_type": "stream",
     "text": [
      "Math       88\n",
      "English    92\n",
      "History    79\n",
      "dtype: int64\n"
     ]
    }
   ],
   "source": [
    "data = {'Math': 88, 'English': 92, 'History': 79}\n",
    "s = pd.Series(data)\n",
    "print(s)\n"
   ]
  },
  {
   "cell_type": "markdown",
   "id": "c3cac49a",
   "metadata": {},
   "source": [
    "#### **Accessing Elements in a Series**"
   ]
  },
  {
   "cell_type": "code",
   "execution_count": 10,
   "id": "bfbc9c0b",
   "metadata": {},
   "outputs": [
    {
     "name": "stdout",
     "output_type": "stream",
     "text": [
      "88\n",
      "Math       88\n",
      "History    79\n",
      "dtype: int64\n"
     ]
    }
   ],
   "source": [
    "print(s['Math'])\n",
    "print(s[[\"Math\",\"History\"]])"
   ]
  },
  {
   "cell_type": "code",
   "execution_count": null,
   "id": "020dacab",
   "metadata": {},
   "outputs": [
    {
     "name": "stdout",
     "output_type": "stream",
     "text": [
      "92\n"
     ]
    },
    {
     "name": "stderr",
     "output_type": "stream",
     "text": [
      "C:\\Users\\barad\\AppData\\Local\\Temp\\ipykernel_9272\\819424605.py:1: FutureWarning: Series.__getitem__ treating keys as positions is deprecated. In a future version, integer keys will always be treated as labels (consistent with DataFrame behavior). To access a value by position, use `ser.iloc[pos]`\n",
      "  print(s[1])\n"
     ]
    }
   ],
   "source": [
    "print(s[1]) # Ambiguous: is 1 a position or a label?"
   ]
  },
  {
   "cell_type": "markdown",
   "id": "fb587117",
   "metadata": {},
   "source": [
    "If the Series has integer labels, Pandas can’t tell if 1 is:\n",
    "\n",
    " * an index label\n",
    "\n",
    " * or a positional index"
   ]
  },
  {
   "cell_type": "code",
   "execution_count": null,
   "id": "530d3578",
   "metadata": {},
   "outputs": [
    {
     "data": {
      "text/plain": [
       "92"
      ]
     },
     "execution_count": 9,
     "metadata": {},
     "output_type": "execute_result"
    }
   ],
   "source": [
    "s.iloc[1] # Access by position (safe)"
   ]
  },
  {
   "cell_type": "code",
   "execution_count": 14,
   "id": "c75c6168",
   "metadata": {},
   "outputs": [
    {
     "data": {
      "text/plain": [
       "79"
      ]
     },
     "execution_count": 14,
     "metadata": {},
     "output_type": "execute_result"
    }
   ],
   "source": [
    "s.loc[\"History\"]   # Access by label (safe if label is \"History\")"
   ]
  },
  {
   "cell_type": "markdown",
   "id": "86c3bd09",
   "metadata": {},
   "source": [
    "#### Vectorized Operations (Like NumPy)"
   ]
  },
  {
   "cell_type": "code",
   "execution_count": 15,
   "id": "36d2bc0e",
   "metadata": {},
   "outputs": [
    {
     "name": "stdout",
     "output_type": "stream",
     "text": [
      "0    11\n",
      "1    12\n",
      "2    13\n",
      "3    14\n",
      "dtype: int64\n",
      "0    2\n",
      "1    4\n",
      "2    6\n",
      "3    8\n",
      "dtype: int64\n"
     ]
    }
   ],
   "source": [
    "s = pd.Series([1, 2, 3, 4])\n",
    "print(s + 10)      # Add 10 to each element\n",
    "print(s * 2)       # Multiply by 2\n"
   ]
  },
  {
   "cell_type": "markdown",
   "id": "f71e45cc",
   "metadata": {},
   "source": [
    "##### **🔹 Useful Attributes and Methods**\n",
    "Method / Attribute|\tDescription\n",
    "-----|-----\n",
    "`s.index`\t|Returns the index labels\n",
    "`s.values`|\tReturns the data as NumPy array\n",
    "`s.dtype`\t|Data type\n",
    "`s.size`|\tNumber of elements\n",
    "`s.head(n)`\t|First n elements\n",
    "`s.tail(n)`\t|Last n elements\n",
    "`s.mean()`\t|Mean value\n",
    "`s.max() / s.min()`\t|Max/Min value\n",
    "`s.sort_values()`\t|Sort by values\n",
    "`s.sort_index()`\t|Sort by index"
   ]
  }
 ],
 "metadata": {
  "kernelspec": {
   "display_name": "base",
   "language": "python",
   "name": "python3"
  },
  "language_info": {
   "codemirror_mode": {
    "name": "ipython",
    "version": 3
   },
   "file_extension": ".py",
   "mimetype": "text/x-python",
   "name": "python",
   "nbconvert_exporter": "python",
   "pygments_lexer": "ipython3",
   "version": "3.12.4"
  }
 },
 "nbformat": 4,
 "nbformat_minor": 5
}
