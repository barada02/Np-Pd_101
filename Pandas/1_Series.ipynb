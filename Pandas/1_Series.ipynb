{
 "cells": [
  {
   "cell_type": "markdown",
   "id": "19c7f616",
   "metadata": {},
   "source": [
    "# Pandas Series"
   ]
  },
  {
   "cell_type": "markdown",
   "id": "7aa28989",
   "metadata": {},
   "source": [
    "🔹 What is a Pandas Series?\n",
    "A Pandas Series is a one-dimensional labeled array that can hold data of any type (integers, strings, floats, Python objects, etc.).\n",
    "\n",
    "Think of it like:\n",
    "\n",
    "A NumPy array + labels (index).\n",
    "\n",
    "Or a single column from a DataFrame."
   ]
  }
 ],
 "metadata": {
  "kernelspec": {
   "display_name": "base",
   "language": "python",
   "name": "python3"
  },
  "language_info": {
   "name": "python",
   "version": "3.12.4"
  }
 },
 "nbformat": 4,
 "nbformat_minor": 5
}
