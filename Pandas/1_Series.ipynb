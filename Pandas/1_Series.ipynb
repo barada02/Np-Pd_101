{
 "cells": [
  {
   "cell_type": "markdown",
   "id": "19c7f616",
   "metadata": {},
   "source": [
    "# Pandas Series"
   ]
  },
  {
   "cell_type": "markdown",
   "id": "7aa28989",
   "metadata": {},
   "source": [
    "#### What is a Pandas Series?\n",
    "A Pandas Series is a one-dimensional labeled array that can hold data of any type (integers, strings, floats, Python objects, etc.).\n",
    "\n",
    "Think of it like:\n",
    "\n",
    " * A NumPy array + labels (index).\n",
    "\n",
    " * Or a single column from a DataFrame."
   ]
  },
  {
   "cell_type": "code",
   "execution_count": 5,
   "id": "3128d8d4",
   "metadata": {},
   "outputs": [
    {
     "name": "stdout",
     "output_type": "stream",
     "text": [
      "0     80\n",
      "1     55\n",
      "2     69\n",
      "3     90\n",
      "4    120\n",
      "dtype: int64\n"
     ]
    }
   ],
   "source": [
    "import pandas as pd\n",
    "scores = [80,55,69,90,120]\n",
    "s = pd.Series(scores)\n",
    "print(s)"
   ]
  },
  {
   "cell_type": "markdown",
   "id": "bf2e747c",
   "metadata": {},
   "source": [
    "##### Series with Custom index"
   ]
  },
  {
   "cell_type": "code",
   "execution_count": 6,
   "id": "1b4346e0",
   "metadata": {},
   "outputs": [
    {
     "name": "stdout",
     "output_type": "stream",
     "text": [
      "Dhoni            80\n",
      "Gambhir          55\n",
      "Hardik           69\n",
      "Virat            90\n",
      "Yuvraj Singh    120\n",
      "dtype: int64\n"
     ]
    }
   ],
   "source": [
    "s2 = pd.Series(scores,index = [\"Dhoni\",\"Gambhir\",\"Hardik\",\"Virat\",\"Yuvraj Singh\"])\n",
    "print(s2)\n"
   ]
  },
  {
   "cell_type": "markdown",
   "id": "1279796a",
   "metadata": {},
   "source": []
  }
 ],
 "metadata": {
  "kernelspec": {
   "display_name": "base",
   "language": "python",
   "name": "python3"
  },
  "language_info": {
   "codemirror_mode": {
    "name": "ipython",
    "version": 3
   },
   "file_extension": ".py",
   "mimetype": "text/x-python",
   "name": "python",
   "nbconvert_exporter": "python",
   "pygments_lexer": "ipython3",
   "version": "3.12.4"
  }
 },
 "nbformat": 4,
 "nbformat_minor": 5
}
