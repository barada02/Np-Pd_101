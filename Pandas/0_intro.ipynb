{
 "cells": [
  {
   "cell_type": "markdown",
   "id": "2f69cb76",
   "metadata": {},
   "source": [
    "# **Pandas**"
   ]
  }
 ],
 "metadata": {
  "kernelspec": {
   "display_name": "base",
   "language": "python",
   "name": "python3"
  },
  "language_info": {
   "name": "python",
   "version": "3.12.4"
  }
 },
 "nbformat": 4,
 "nbformat_minor": 5
}
