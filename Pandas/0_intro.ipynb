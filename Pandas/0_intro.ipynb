{
 "cells": [
  {
   "cell_type": "markdown",
   "id": "2f69cb76",
   "metadata": {},
   "source": [
    "# **Pandas**"
   ]
  },
  {
   "cell_type": "markdown",
   "id": "88688d20",
   "metadata": {},
   "source": [
    "## What is Pandas?\n",
    "Pandas is a powerful, open-source Python library used for:\n",
    "\n",
    "Data analysis\n",
    "\n",
    "Data manipulation\n",
    "\n",
    "Data cleaning\n",
    "\n",
    "Loading and saving data\n",
    "\n",
    "It’s built on top of NumPy and provides two main data structures:\n",
    "\n",
    "Series → One-dimensional labeled array\n",
    "\n",
    "DataFrame → Two-dimensional labeled table (like Excel or SQL table)\n",
    "\n",
    "> 📌 Pandas is like Excel in Python — but more powerful, flexible, and scriptable."
   ]
  },
  {
   "cell_type": "code",
   "execution_count": 1,
   "id": "e8712243",
   "metadata": {},
   "outputs": [],
   "source": [
    "import pandas as pd\n"
   ]
  },
  {
   "cell_type": "markdown",
   "id": "2ba5ea34",
   "metadata": {},
   "source": [
    "🔹 Why Pandas over Lists/NumPy?\n",
    "|Feature|\tLists/NumPy|\tPandas|\n",
    "|-----|----|----|\n",
    "Labels\t|Not Supported|\tSupported\n",
    "Handling Missing Data|\tHard|\tEasy (NaN support)\n",
    "SQL-like operations\t|No\t|Yes (merge, groupby)\n",
    "File I/O\t|Not supported|\tEasy (read_csv, etc.)"
   ]
  },
  {
   "cell_type": "code",
   "execution_count": null,
   "id": "b5830e1d",
   "metadata": {},
   "outputs": [],
   "source": []
  }
 ],
 "metadata": {
  "kernelspec": {
   "display_name": "base",
   "language": "python",
   "name": "python3"
  },
  "language_info": {
   "codemirror_mode": {
    "name": "ipython",
    "version": 3
   },
   "file_extension": ".py",
   "mimetype": "text/x-python",
   "name": "python",
   "nbconvert_exporter": "python",
   "pygments_lexer": "ipython3",
   "version": "3.12.4"
  }
 },
 "nbformat": 4,
 "nbformat_minor": 5
}
