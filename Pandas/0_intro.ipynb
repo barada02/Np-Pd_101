{
 "cells": [
  {
   "cell_type": "markdown",
   "id": "2f69cb76",
   "metadata": {},
   "source": [
    "# **Pandas**"
   ]
  },
  {
   "cell_type": "markdown",
   "id": "88688d20",
   "metadata": {},
   "source": [
    "## What is Pandas?\n",
    "Pandas is a powerful, open-source Python library used for:\n",
    "\n",
    "Data analysis\n",
    "\n",
    "Data manipulation\n",
    "\n",
    "Data cleaning\n",
    "\n",
    "Loading and saving data\n",
    "\n",
    "It’s built on top of NumPy and provides two main data structures:\n",
    "\n",
    "Series → One-dimensional labeled array\n",
    "\n",
    "DataFrame → Two-dimensional labeled table (like Excel or SQL table)\n",
    "\n",
    "> 📌 Pandas is like Excel in Python — but more powerful, flexible, and scriptable."
   ]
  },
  {
   "cell_type": "code",
   "execution_count": 1,
   "id": "e8712243",
   "metadata": {},
   "outputs": [],
   "source": [
    "import pandas as pd\n"
   ]
  },
  {
   "cell_type": "markdown",
   "id": "2ba5ea34",
   "metadata": {},
   "source": [
    "🔹 Why Pandas over Lists/NumPy?\n",
    "|Feature|\tLists/NumPy|\tPandas|\n",
    "|-----|----|----|\n",
    "Labels\t|Not Supported|\tSupported\n",
    "Handling Missing Data|\tHard|\tEasy (NaN support)\n",
    "SQL-like operations\t|No\t|Yes (merge, groupby)\n",
    "File I/O\t|Not supported|\tEasy (read_csv, etc.)"
   ]
  },
  {
   "cell_type": "markdown",
   "id": "3969b2bd",
   "metadata": {},
   "source": [
    "# Core Data stracture"
   ]
  },
  {
   "cell_type": "markdown",
   "id": "d4e9acc2",
   "metadata": {},
   "source": [
    "#### 1. Series\n",
    "A one-dimensional labeled array"
   ]
  },
  {
   "cell_type": "code",
   "execution_count": 2,
   "id": "b5830e1d",
   "metadata": {},
   "outputs": [
    {
     "name": "stdout",
     "output_type": "stream",
     "text": [
      "0    10\n",
      "1    20\n",
      "2    30\n",
      "dtype: int64\n"
     ]
    }
   ],
   "source": [
    "s = pd.Series([10,20,30])\n",
    "print(s)"
   ]
  },
  {
   "cell_type": "markdown",
   "id": "dc91187f",
   "metadata": {},
   "source": [
    "#### 2. DataFrame\n",
    "A 2D table (rows + columns)"
   ]
  },
  {
   "cell_type": "code",
   "execution_count": null,
   "id": "4e7adda2",
   "metadata": {},
   "outputs": [
    {
     "name": "stdout",
     "output_type": "stream",
     "text": [
      "      Name  Age\n",
      "0    Alice   25\n",
      "1      Bob   30\n",
      "2  Charlie   35\n"
     ]
    }
   ],
   "source": [
    "data = {\n",
    "    'Name': ['Ganesh', 'Saswat', 'krishna'],\n",
    "    'Age': [25, 30, 35]\n",
    "}\n",
    "\n",
    "df = pd.DataFrame(data)\n",
    "print(df)\n"
   ]
  },
  {
   "cell_type": "code",
   "execution_count": 6,
   "id": "ea0ba8fd",
   "metadata": {},
   "outputs": [
    {
     "name": "stdout",
     "output_type": "stream",
     "text": [
      "        Name   Products\n",
      "0  Alphabate    YouTube\n",
      "1       Meta  Instagram\n",
      "2      Apple     Iphone\n"
     ]
    }
   ],
   "source": [
    "companies = {\n",
    "    'Name': ['Alphabate', 'Meta', 'Apple'],\n",
    "    'Products': [\"YouTube\", \"Instagram\", \"Iphone\"]\n",
    "}\n",
    "\n",
    "df = pd.DataFrame(companies)\n",
    "print(df)\n"
   ]
  }
 ],
 "metadata": {
  "kernelspec": {
   "display_name": "base",
   "language": "python",
   "name": "python3"
  },
  "language_info": {
   "codemirror_mode": {
    "name": "ipython",
    "version": 3
   },
   "file_extension": ".py",
   "mimetype": "text/x-python",
   "name": "python",
   "nbconvert_exporter": "python",
   "pygments_lexer": "ipython3",
   "version": "3.12.4"
  }
 },
 "nbformat": 4,
 "nbformat_minor": 5
}
