{
 "cells": [
  {
   "cell_type": "markdown",
   "id": "94e3b6b4",
   "metadata": {},
   "source": [
    "# Pandas DataFrame Basics\n",
    "### What is a DataFrame?\n",
    "A DataFrame is a 2-dimensional labeled table — think of it like:\n",
    "\n",
    " * An Excel spreadsheet\n",
    "\n",
    " * A SQL table\n",
    "\n",
    " * Or a collection of Series (each column is a Series)\n",
    "\n"
   ]
  }
 ],
 "metadata": {
  "kernelspec": {
   "display_name": "base",
   "language": "python",
   "name": "python3"
  },
  "language_info": {
   "name": "python",
   "version": "3.12.4"
  }
 },
 "nbformat": 4,
 "nbformat_minor": 5
}
