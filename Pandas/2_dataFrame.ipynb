{
 "cells": [
  {
   "cell_type": "markdown",
   "id": "94e3b6b4",
   "metadata": {},
   "source": [
    "# Pandas DataFrame Basics\n",
    "### What is a DataFrame?\n",
    "A DataFrame is a 2-dimensional labeled table — think of it like:\n",
    "\n",
    " * An Excel spreadsheet\n",
    "\n",
    " * A SQL table\n",
    "\n",
    " * Or a collection of Series (each column is a Series)\n",
    "\n"
   ]
  },
  {
   "cell_type": "markdown",
   "id": "d5850f92",
   "metadata": {},
   "source": [
    "### **Creating a DataFrame**"
   ]
  },
  {
   "cell_type": "markdown",
   "id": "3ce716aa",
   "metadata": {},
   "source": [
    "#### 1. From a dictionary of lists:"
   ]
  },
  {
   "cell_type": "code",
   "execution_count": 1,
   "id": "10cb9181",
   "metadata": {},
   "outputs": [
    {
     "name": "stdout",
     "output_type": "stream",
     "text": [
      "     Name  Age     City\n",
      "0    Riya   25    Delhi\n",
      "1  Sardha   30   Mumbai\n",
      "2    Alia   35  Chennai\n"
     ]
    }
   ],
   "source": [
    "import pandas as pd\n",
    "\n",
    "data = {\n",
    "    'Name': ['Riya', 'Sardha', 'Alia'],\n",
    "    'Age': [25, 30, 35],\n",
    "    'City': ['Delhi', 'Mumbai', 'Chennai']\n",
    "}\n",
    "\n",
    "df = pd.DataFrame(data)\n",
    "print(df)\n"
   ]
  },
  {
   "cell_type": "markdown",
   "id": "73ec54c4",
   "metadata": {},
   "source": [
    "#### 2.From a list of dictionaries:"
   ]
  },
  {
   "cell_type": "code",
   "execution_count": 4,
   "id": "6dbd706d",
   "metadata": {},
   "outputs": [
    {
     "name": "stdout",
     "output_type": "stream",
     "text": [
      "          Name  Age\n",
      "0  Sai pallavi   35\n",
      "1      Rasmita   29\n"
     ]
    }
   ],
   "source": [
    "list_Of_dictionary = [{'Name': 'Sai pallavi','Age':35},{'Name': 'Rasmita','Age':29}]\n",
    "df = pd.DataFrame(list_Of_dictionary)\n",
    "print(df)"
   ]
  },
  {
   "cell_type": "markdown",
   "id": "64c9342a",
   "metadata": {},
   "source": [
    "#### 🔹 Inspecting DataFrame\n",
    "Command|\tDescription|\n",
    "-------|--------|\n",
    "`df.head(n)`\t|First n rows\n",
    "`df.tail(n)`\t|Last n rows\n",
    "`df.shape`\t|Rows × Columns\n",
    "`df.columns`\t|Column names\n",
    "`df.index`\t|Row indices\n",
    "`df.dtypes`\t|Data types of columns\n",
    "`df.info()`\t|Full summary\n",
    "`df.describe()`\t|Statistical summary (numeric cols)"
   ]
  },
  {
   "cell_type": "markdown",
   "id": "f31ed1c3",
   "metadata": {},
   "source": [
    "### **Accessing Data**\n",
    "\n",
    "Access a Column (Series):"
   ]
  },
  {
   "cell_type": "code",
   "execution_count": 5,
   "id": "f8ba5946",
   "metadata": {},
   "outputs": [
    {
     "data": {
      "text/plain": [
       "0    Sai pallavi\n",
       "1        Rasmita\n",
       "Name: Name, dtype: object"
      ]
     },
     "execution_count": 5,
     "metadata": {},
     "output_type": "execute_result"
    }
   ],
   "source": [
    "df['Name']      # OR\n",
    "\n"
   ]
  },
  {
   "cell_type": "code",
   "execution_count": 6,
   "id": "1a1ef936",
   "metadata": {},
   "outputs": [
    {
     "data": {
      "text/plain": [
       "0    Sai pallavi\n",
       "1        Rasmita\n",
       "Name: Name, dtype: object"
      ]
     },
     "execution_count": 6,
     "metadata": {},
     "output_type": "execute_result"
    }
   ],
   "source": [
    "df.Name         # Only if the column name has no space/special char"
   ]
  },
  {
   "cell_type": "markdown",
   "id": "71b7fae0",
   "metadata": {},
   "source": [
    "**Access Rows:**"
   ]
  },
  {
   "cell_type": "code",
   "execution_count": 7,
   "id": "c0318c34",
   "metadata": {},
   "outputs": [
    {
     "data": {
      "text/plain": [
       "Name    Sai pallavi\n",
       "Age              35\n",
       "Name: 0, dtype: object"
      ]
     },
     "execution_count": 7,
     "metadata": {},
     "output_type": "execute_result"
    }
   ],
   "source": [
    "df.iloc[0]     # First row (by position)"
   ]
  },
  {
   "cell_type": "code",
   "execution_count": 8,
   "id": "dce631d2",
   "metadata": {},
   "outputs": [
    {
     "data": {
      "text/plain": [
       "Name    Sai pallavi\n",
       "Age              35\n",
       "Name: 0, dtype: object"
      ]
     },
     "execution_count": 8,
     "metadata": {},
     "output_type": "execute_result"
    }
   ],
   "source": [
    "df.loc[0]      # Row with index label 0"
   ]
  },
  {
   "cell_type": "markdown",
   "id": "b2061651",
   "metadata": {},
   "source": [
    "#### Access Cell (Value at row, column):"
   ]
  },
  {
   "cell_type": "code",
   "execution_count": null,
   "id": "61a77cba",
   "metadata": {},
   "outputs": [
    {
     "data": {
      "text/plain": [
       "'Sai pallavi'"
      ]
     },
     "execution_count": 10,
     "metadata": {},
     "output_type": "execute_result"
    }
   ],
   "source": [
    "df.at[0, 'Name']     # By label"
   ]
  },
  {
   "cell_type": "code",
   "execution_count": 11,
   "id": "17bc7674",
   "metadata": {},
   "outputs": [
    {
     "data": {
      "text/plain": [
       "'Sai pallavi'"
      ]
     },
     "execution_count": 11,
     "metadata": {},
     "output_type": "execute_result"
    }
   ],
   "source": [
    "df.iat[0, 0]         # By position"
   ]
  },
  {
   "cell_type": "markdown",
   "id": "5100c6f2",
   "metadata": {},
   "source": [
    "### 🔹 Modifying DataFrame"
   ]
  },
  {
   "cell_type": "code",
   "execution_count": 18,
   "id": "88dc2fb1",
   "metadata": {},
   "outputs": [
    {
     "name": "stdout",
     "output_type": "stream",
     "text": [
      "  Country\n",
      "0   India\n",
      "1   India\n",
      "2   India\n"
     ]
    }
   ],
   "source": [
    "df2 = pd.DataFrame()\n",
    "df2['Country'] = ['India', 'India', 'India']\n",
    "print(df2)"
   ]
  },
  {
   "cell_type": "markdown",
   "id": "e4658e82",
   "metadata": {},
   "source": [
    "##### Modify a Value:"
   ]
  },
  {
   "cell_type": "code",
   "execution_count": 20,
   "id": "cc09b3ea",
   "metadata": {},
   "outputs": [
    {
     "name": "stdout",
     "output_type": "stream",
     "text": [
      "  Country  City\n",
      "0   India   NaN\n",
      "1   India  Pune\n",
      "2   India   NaN\n"
     ]
    }
   ],
   "source": [
    "df2.at[1, 'City'] = 'Pune'\n",
    "print(df2)"
   ]
  },
  {
   "cell_type": "markdown",
   "id": "0e66d53e",
   "metadata": {},
   "source": [
    "#### Drop Column or row"
   ]
  },
  {
   "cell_type": "code",
   "execution_count": 21,
   "id": "13cffd5f",
   "metadata": {},
   "outputs": [
    {
     "name": "stdout",
     "output_type": "stream",
     "text": [
      "  Country\n",
      "0   India\n",
      "1   India\n",
      "2   India\n"
     ]
    }
   ],
   "source": [
    "df2.drop('City', axis=1, inplace=True)  # Drop column\n",
    "print(df2)\n"
   ]
  },
  {
   "cell_type": "code",
   "execution_count": 23,
   "id": "895cc934",
   "metadata": {},
   "outputs": [
    {
     "name": "stdout",
     "output_type": "stream",
     "text": [
      "  Country\n",
      "0   India\n",
      "2   India\n"
     ]
    }
   ],
   "source": [
    "df2.drop(1, axis=0, inplace=True)       # Drop row with index 1\n",
    "print(df2)"
   ]
  },
  {
   "cell_type": "markdown",
   "id": "17ea77f2",
   "metadata": {},
   "source": [
    "#### Rename columns:"
   ]
  },
  {
   "cell_type": "code",
   "execution_count": 25,
   "id": "aaef6e9d",
   "metadata": {},
   "outputs": [
    {
     "name": "stdout",
     "output_type": "stream",
     "text": [
      "  Country\n",
      "0   India\n",
      "2   India\n"
     ]
    }
   ],
   "source": [
    "df2.rename(columns ={'Name':'FullName'},inplace = True)\n",
    "print(df2)"
   ]
  }
 ],
 "metadata": {
  "kernelspec": {
   "display_name": "base",
   "language": "python",
   "name": "python3"
  },
  "language_info": {
   "codemirror_mode": {
    "name": "ipython",
    "version": 3
   },
   "file_extension": ".py",
   "mimetype": "text/x-python",
   "name": "python",
   "nbconvert_exporter": "python",
   "pygments_lexer": "ipython3",
   "version": "3.12.4"
  }
 },
 "nbformat": 4,
 "nbformat_minor": 5
}
