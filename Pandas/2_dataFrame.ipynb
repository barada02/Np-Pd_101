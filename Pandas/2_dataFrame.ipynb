{
 "cells": [
  {
   "cell_type": "markdown",
   "id": "94e3b6b4",
   "metadata": {},
   "source": [
    "# Pandas DataFrame Basics\n",
    "### What is a DataFrame?\n",
    "A DataFrame is a 2-dimensional labeled table — think of it like:\n",
    "\n",
    " * An Excel spreadsheet\n",
    "\n",
    " * A SQL table\n",
    "\n",
    " * Or a collection of Series (each column is a Series)\n",
    "\n"
   ]
  },
  {
   "cell_type": "markdown",
   "id": "d5850f92",
   "metadata": {},
   "source": [
    "### **Creating a DataFrame**"
   ]
  },
  {
   "cell_type": "markdown",
   "id": "3ce716aa",
   "metadata": {},
   "source": [
    "#### 1. From a dictionary of lists:"
   ]
  },
  {
   "cell_type": "code",
   "execution_count": 1,
   "id": "10cb9181",
   "metadata": {},
   "outputs": [
    {
     "name": "stdout",
     "output_type": "stream",
     "text": [
      "     Name  Age     City\n",
      "0    Riya   25    Delhi\n",
      "1  Sardha   30   Mumbai\n",
      "2    Alia   35  Chennai\n"
     ]
    }
   ],
   "source": [
    "import pandas as pd\n",
    "\n",
    "data = {\n",
    "    'Name': ['Riya', 'Sardha', 'Alia'],\n",
    "    'Age': [25, 30, 35],\n",
    "    'City': ['Delhi', 'Mumbai', 'Chennai']\n",
    "}\n",
    "\n",
    "df = pd.DataFrame(data)\n",
    "print(df)\n"
   ]
  },
  {
   "cell_type": "markdown",
   "id": "73ec54c4",
   "metadata": {},
   "source": [
    "#### 2.From a list of dictionaries:"
   ]
  },
  {
   "cell_type": "code",
   "execution_count": 4,
   "id": "6dbd706d",
   "metadata": {},
   "outputs": [
    {
     "name": "stdout",
     "output_type": "stream",
     "text": [
      "          Name  Age\n",
      "0  Sai pallavi   35\n",
      "1      Rasmita   29\n"
     ]
    }
   ],
   "source": [
    "list_Of_dictionary = [{'Name': 'Sai pallavi','Age':35},{'Name': 'Rasmita','Age':29}]\n",
    "df = pd.DataFrame(list_Of_dictionary)\n",
    "print(df)"
   ]
  },
  {
   "cell_type": "markdown",
   "id": "64c9342a",
   "metadata": {},
   "source": [
    "#### 🔹 Inspecting DataFrame\n",
    "Command|\tDescription|\n",
    "-------|--------|\n",
    "`df.head(n)`\t|First n rows\n",
    "`df.tail(n)`\t|Last n rows\n",
    "`df.shape`\t|Rows × Columns\n",
    "`df.columns`\t|Column names\n",
    "`df.index`\t|Row indices\n",
    "`df.dtypes`\t|Data types of columns\n",
    "`df.info()`\t|Full summary\n",
    "`df.describe()`\t|Statistical summary (numeric cols)"
   ]
  }
 ],
 "metadata": {
  "kernelspec": {
   "display_name": "base",
   "language": "python",
   "name": "python3"
  },
  "language_info": {
   "codemirror_mode": {
    "name": "ipython",
    "version": 3
   },
   "file_extension": ".py",
   "mimetype": "text/x-python",
   "name": "python",
   "nbconvert_exporter": "python",
   "pygments_lexer": "ipython3",
   "version": "3.12.4"
  }
 },
 "nbformat": 4,
 "nbformat_minor": 5
}
