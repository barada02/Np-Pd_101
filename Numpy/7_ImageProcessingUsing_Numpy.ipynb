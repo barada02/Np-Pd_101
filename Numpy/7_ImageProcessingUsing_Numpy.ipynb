{
 "cells": [
  {
   "cell_type": "markdown",
   "id": "9abd5b58",
   "metadata": {},
   "source": [
    "# NumPy for Image Processing\n",
    "NumPy is a powerful tool for image processing, since images are essentially just **arrays of pixel values** — and NumPy is all about arrays!"
   ]
  },
  {
   "cell_type": "markdown",
   "id": "c20da23f",
   "metadata": {},
   "source": [
    "# 🖼️ 1. What is an Image in NumPy?\n",
    "Images are typically represented as NumPy arrays:\n",
    "\n",
    "* **Grayscale image → 2D array (height × width)**\n",
    "\n",
    "* **Color image (RGB) → 3D array (height × width × 3)**"
   ]
  },
  {
   "cell_type": "markdown",
   "id": "cb6de707",
   "metadata": {},
   "source": [
    "# 📦 2. Reading and Writing Images\n",
    "NumPy doesn’t directly read image files, so we typically use **OpenCV**, **Matplotlib**, or **PIL** with **NumPy**."
   ]
  },
  {
   "cell_type": "code",
   "execution_count": 1,
   "id": "385d9144",
   "metadata": {},
   "outputs": [
    {
     "name": "stdout",
     "output_type": "stream",
     "text": [
      "Requirement already satisfied: opencv-python in c:\\users\\barad\\appdata\\roaming\\python\\python312\\site-packages (4.10.0.84)\n",
      "Requirement already satisfied: numpy>=1.21.2 in c:\\users\\barad\\appdata\\roaming\\python\\python312\\site-packages (from opencv-python) (1.26.4)\n"
     ]
    },
    {
     "name": "stderr",
     "output_type": "stream",
     "text": [
      "\n",
      "[notice] A new release of pip is available: 24.3.1 -> 25.0.1\n",
      "[notice] To update, run: python.exe -m pip install --upgrade pip\n"
     ]
    }
   ],
   "source": [
    "! pip install opencv-python\n"
   ]
  },
  {
   "cell_type": "markdown",
   "id": "3efc81a0",
   "metadata": {},
   "source": [
    "#### ➤ Load and Display an Image"
   ]
  },
  {
   "cell_type": "code",
   "execution_count": null,
   "id": "807f4ea4",
   "metadata": {},
   "outputs": [],
   "source": [
    "import cv2\n",
    "import numpy as np\n",
    "\n",
    "# Read an image (in color)\n",
    "img = cv2.imread('image.jpg')   # BGR format\n",
    "\n",
    "print(\"Shape:\", img.shape)      # (Height, Width, Channels)\n",
    "print(\"Data Type:\", img.dtype)  # uint8 (0–255 values)\n",
    "\n",
    "# Convert BGR to RGB for display with matplotlib\n",
    "import matplotlib.pyplot as plt\n",
    "img_rgb = cv2.cvtColor(img, cv2.COLOR_BGR2RGB)\n",
    "\n",
    "plt.imshow(img_rgb)\n",
    "plt.title(\"Original Image\")\n",
    "plt.axis(\"off\")\n",
    "plt.show()\n"
   ]
  }
 ],
 "metadata": {
  "kernelspec": {
   "display_name": "base",
   "language": "python",
   "name": "python3"
  },
  "language_info": {
   "codemirror_mode": {
    "name": "ipython",
    "version": 3
   },
   "file_extension": ".py",
   "mimetype": "text/x-python",
   "name": "python",
   "nbconvert_exporter": "python",
   "pygments_lexer": "ipython3",
   "version": "3.12.4"
  }
 },
 "nbformat": 4,
 "nbformat_minor": 5
}
