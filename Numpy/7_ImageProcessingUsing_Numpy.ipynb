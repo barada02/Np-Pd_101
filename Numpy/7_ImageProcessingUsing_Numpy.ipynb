{
 "cells": [
  {
   "cell_type": "markdown",
   "id": "9abd5b58",
   "metadata": {},
   "source": [
    "# NumPy for Image Processing\n",
    "NumPy is a powerful tool for image processing, since images are essentially just **arrays of pixel values** — and NumPy is all about arrays!"
   ]
  },
  {
   "cell_type": "markdown",
   "id": "c20da23f",
   "metadata": {},
   "source": [
    "# 🖼️ 1. What is an Image in NumPy?\n",
    "Images are typically represented as NumPy arrays:\n",
    "\n",
    "* **Grayscale image → 2D array (height × width)**\n",
    "\n",
    "* **Color image (RGB) → 3D array (height × width × 3)**"
   ]
  }
 ],
 "metadata": {
  "kernelspec": {
   "display_name": "base",
   "language": "python",
   "name": "python3"
  },
  "language_info": {
   "name": "python",
   "version": "3.12.4"
  }
 },
 "nbformat": 4,
 "nbformat_minor": 5
}
