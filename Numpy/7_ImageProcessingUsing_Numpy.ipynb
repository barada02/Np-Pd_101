{
 "cells": [
  {
   "cell_type": "markdown",
   "id": "9abd5b58",
   "metadata": {},
   "source": [
    "# NumPy for Image Processing\n",
    "NumPy is a powerful tool for image processing, since images are essentially just **arrays of pixel values** — and NumPy is all about arrays!"
   ]
  }
 ],
 "metadata": {
  "language_info": {
   "name": "python"
  }
 },
 "nbformat": 4,
 "nbformat_minor": 5
}
