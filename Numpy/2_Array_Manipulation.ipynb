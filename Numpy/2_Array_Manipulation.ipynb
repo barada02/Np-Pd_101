{
 "cells": [
  {
   "cell_type": "markdown",
   "metadata": {},
   "source": [
    "# Reshaping and Manipulating Array in NumPy"
   ]
  },
  {
   "cell_type": "markdown",
   "metadata": {},
   "source": [
    "## 1. Reshaping Arrays 🔄\n",
    "Reshaping changes the shape (dimensions) of an array without changing its data."
   ]
  },
  {
   "cell_type": "markdown",
   "metadata": {},
   "source": [
    "### ➤ Reshape Method"
   ]
  },
  {
   "cell_type": "code",
   "execution_count": 1,
   "metadata": {},
   "outputs": [
    {
     "data": {
      "text/plain": [
       "'1.26.4'"
      ]
     },
     "execution_count": 1,
     "metadata": {},
     "output_type": "execute_result"
    }
   ],
   "source": [
    "import numpy as np\n",
    "\n",
    "np.__version__"
   ]
  },
  {
   "cell_type": "code",
   "execution_count": 2,
   "metadata": {},
   "outputs": [
    {
     "ename": "ValueError",
     "evalue": "cannot reshape array of size 8 into shape (3,2)",
     "output_type": "error",
     "traceback": [
      "\u001b[1;31m---------------------------------------------------------------------------\u001b[0m",
      "\u001b[1;31mValueError\u001b[0m                                Traceback (most recent call last)",
      "Cell \u001b[1;32mIn[2], line 3\u001b[0m\n\u001b[0;32m      1\u001b[0m arr \u001b[38;5;241m=\u001b[39m np\u001b[38;5;241m.\u001b[39marray([\u001b[38;5;241m1\u001b[39m,\u001b[38;5;241m8\u001b[39m,\u001b[38;5;241m9\u001b[39m,\u001b[38;5;241m6\u001b[39m,\u001b[38;5;241m9\u001b[39m,\u001b[38;5;241m63\u001b[39m,\u001b[38;5;241m78\u001b[39m,\u001b[38;5;241m69\u001b[39m])\n\u001b[1;32m----> 3\u001b[0m reshaped_arr \u001b[38;5;241m=\u001b[39m arr\u001b[38;5;241m.\u001b[39mreshape(\u001b[38;5;241m3\u001b[39m,\u001b[38;5;241m2\u001b[39m)\n",
      "\u001b[1;31mValueError\u001b[0m: cannot reshape array of size 8 into shape (3,2)"
     ]
    }
   ],
   "source": [
    "arr = np.array([1,8,9,6,9,63,78,69])\n",
    "\n",
    "reshaped_arr = arr.reshape(3,2) # 3 columns , 2 reows"
   ]
  },
  {
   "cell_type": "code",
   "execution_count": 3,
   "metadata": {},
   "outputs": [
    {
     "name": "stdout",
     "output_type": "stream",
     "text": [
      "[[ 1  8]\n",
      " [ 9  6]\n",
      " [ 9 63]]\n"
     ]
    }
   ],
   "source": [
    "arr = np.array([1,8,9,6,9,63])\n",
    "\n",
    "reshaped_arr = arr.reshape(3,2) # 3 columns , 2 reows\n",
    "\n",
    "print(reshaped_arr)"
   ]
  },
  {
   "cell_type": "markdown",
   "metadata": {},
   "source": [
    "### ➤ Reshape with -1 (Auto-dimension calculation)"
   ]
  },
  {
   "cell_type": "code",
   "execution_count": 4,
   "metadata": {},
   "outputs": [
    {
     "name": "stdout",
     "output_type": "stream",
     "text": [
      "[[ 1  8  9]\n",
      " [ 6  9 63]\n",
      " [78 69 98]]\n"
     ]
    }
   ],
   "source": [
    "arr = np.array([1,8,9,6,9,63,78,69,98])\n",
    "\n",
    "reshaped_arr = arr.reshape(3,-1) # Auto fills columns\n",
    "print(reshaped_arr)"
   ]
  },
  {
   "cell_type": "code",
   "execution_count": 5,
   "metadata": {},
   "outputs": [
    {
     "name": "stdout",
     "output_type": "stream",
     "text": [
      "[[ 1  8]\n",
      " [ 9  6]\n",
      " [ 9 63]\n",
      " [78 69]]\n"
     ]
    }
   ],
   "source": [
    "arr = np.array([1,8,9,6,9,63,78,69])\n",
    "\n",
    "reshaped_arr = arr.reshape(-1,2) # Auto fills rows\n",
    "print(reshaped_arr)"
   ]
  },
  {
   "cell_type": "code",
   "execution_count": 6,
   "metadata": {},
   "outputs": [
    {
     "ename": "ValueError",
     "evalue": "can only specify one unknown dimension",
     "output_type": "error",
     "traceback": [
      "\u001b[1;31m---------------------------------------------------------------------------\u001b[0m",
      "\u001b[1;31mValueError\u001b[0m                                Traceback (most recent call last)",
      "Cell \u001b[1;32mIn[6], line 3\u001b[0m\n\u001b[0;32m      1\u001b[0m arr \u001b[38;5;241m=\u001b[39m np\u001b[38;5;241m.\u001b[39marray([\u001b[38;5;241m1\u001b[39m,\u001b[38;5;241m8\u001b[39m,\u001b[38;5;241m9\u001b[39m,\u001b[38;5;241m6\u001b[39m,\u001b[38;5;241m9\u001b[39m,\u001b[38;5;241m63\u001b[39m,\u001b[38;5;241m78\u001b[39m,\u001b[38;5;241m69\u001b[39m,\u001b[38;5;241m98\u001b[39m])\n\u001b[1;32m----> 3\u001b[0m reshaped_arr \u001b[38;5;241m=\u001b[39m arr\u001b[38;5;241m.\u001b[39mreshape(\u001b[38;5;241m-\u001b[39m\u001b[38;5;241m1\u001b[39m,\u001b[38;5;241m-\u001b[39m\u001b[38;5;241m1\u001b[39m) \u001b[38;5;66;03m# specify atleast one dimension\u001b[39;00m\n\u001b[0;32m      4\u001b[0m \u001b[38;5;28mprint\u001b[39m(reshaped_arr)\n",
      "\u001b[1;31mValueError\u001b[0m: can only specify one unknown dimension"
     ]
    }
   ],
   "source": [
    "arr = np.array([1,8,9,6,9,63,78,69,98])\n",
    "\n",
    "reshaped_arr = arr.reshape(-1,-1) # specify atleast one dimension\n",
    "print(reshaped_arr)"
   ]
  },
  {
   "cell_type": "markdown",
   "metadata": {},
   "source": [
    "### ➤ Flattening an Array\n",
    "Converts a multi-dimensional array into a 1D array."
   ]
  },
  {
   "cell_type": "code",
   "execution_count": 7,
   "metadata": {},
   "outputs": [
    {
     "name": "stdout",
     "output_type": "stream",
     "text": [
      "[ 1  8  9  6  9 63 78 69]\n"
     ]
    }
   ],
   "source": [
    "arr = np.array([[ 1 , 8],\n",
    " [ 9 , 6],\n",
    " [ 9,63],\n",
    " [78 ,69]])\n",
    "\n",
    "print(arr.flatten())"
   ]
  },
  {
   "cell_type": "markdown",
   "metadata": {},
   "source": [
    "### ➤ Ravel Method (More Efficient Flattening)\n",
    "Unlike .flatten(), .ravel() returns a view rather than a copy."
   ]
  },
  {
   "cell_type": "code",
   "execution_count": 8,
   "metadata": {},
   "outputs": [
    {
     "name": "stdout",
     "output_type": "stream",
     "text": [
      "[ 1  8  9  6  9 63 78 69]\n"
     ]
    }
   ],
   "source": [
    "print(arr.ravel())"
   ]
  },
  {
   "cell_type": "markdown",
   "metadata": {},
   "source": [
    "**Difference**\n",
    "1. Return Type:\n",
    "    * flatten() always returns a copy of the array\n",
    "    * ravel() returns a view of the original array when possible (more memory efficient)\n",
    "\n",
    "\n",
    "2. Memory Usage:\n",
    "\n",
    "    * flatten() allocates new memory for the flattened array\n",
    "    * ravel() tries to avoid memory allocation by returning a view"
   ]
  },
  {
   "cell_type": "code",
   "execution_count": 9,
   "metadata": {},
   "outputs": [],
   "source": [
    "import numpy as np\n",
    "\n",
    "# Create a 2D array\n",
    "arr = np.array([[1, 2, 3], [4, 5, 6]])\n",
    "\n",
    "# Using flatten()\n",
    "flat_copy = arr.flatten()\n",
    "\n",
    "# Using ravel()\n",
    "flat_view = arr.ravel()\n",
    "\n",
    "\n"
   ]
  },
  {
   "cell_type": "code",
   "execution_count": 10,
   "metadata": {},
   "outputs": [
    {
     "name": "stdout",
     "output_type": "stream",
     "text": [
      "Original array after modifying flatten(): [[1 2 3]\n",
      " [4 5 6]]\n"
     ]
    }
   ],
   "source": [
    "# Modify the flattened arrays\n",
    "flat_copy[0] = 99\n",
    "print(\"Original array after modifying flatten():\", arr)"
   ]
  },
  {
   "cell_type": "markdown",
   "metadata": {},
   "source": [
    "##### Unchnaged as flat copy is an different element having separate memory"
   ]
  },
  {
   "cell_type": "code",
   "execution_count": 11,
   "metadata": {},
   "outputs": [
    {
     "name": "stdout",
     "output_type": "stream",
     "text": [
      "Original array after modifying ravel(): [[88  2  3]\n",
      " [ 4  5  6]]\n"
     ]
    }
   ],
   "source": [
    "flat_view[0] = 88\n",
    "print(\"Original array after modifying ravel():\", arr)"
   ]
  },
  {
   "cell_type": "markdown",
   "metadata": {},
   "source": [
    "##  2. Transposing Arrays \n",
    "Transposing switches rows and columns."
   ]
  },
  {
   "cell_type": "markdown",
   "metadata": {},
   "source": [
    "### ➤ Using .T"
   ]
  },
  {
   "cell_type": "code",
   "execution_count": 12,
   "metadata": {},
   "outputs": [
    {
     "name": "stdout",
     "output_type": "stream",
     "text": [
      "[[1 3 5]\n",
      " [2 4 6]]\n"
     ]
    }
   ],
   "source": [
    "arr = np.array([[1, 2],\n",
    "                [3, 4],\n",
    "                [5, 6]])\n",
    "\n",
    "print(arr.T) # doesn't change the original one\n",
    "\n"
   ]
  },
  {
   "cell_type": "markdown",
   "metadata": {},
   "source": [
    "\n",
    "#  3. Stacking Arrays 🧩\n",
    "Combines multiple arrays.\n",
    "\n",
    "### ➤ Horizontal Stacking (hstack)\n",
    "\n"
   ]
  },
  {
   "cell_type": "code",
   "execution_count": 13,
   "metadata": {},
   "outputs": [
    {
     "name": "stdout",
     "output_type": "stream",
     "text": [
      "[1 2 3 4 5 6]\n"
     ]
    }
   ],
   "source": [
    "a = np.array([1, 2, 3])\n",
    "b = np.array([4, 5, 6])\n",
    "\n",
    "print(np.hstack((a, b)))  \n"
   ]
  },
  {
   "cell_type": "markdown",
   "metadata": {},
   "source": [
    "➤ Vertical Stacking (vstack)"
   ]
  },
  {
   "cell_type": "code",
   "execution_count": 14,
   "metadata": {},
   "outputs": [
    {
     "name": "stdout",
     "output_type": "stream",
     "text": [
      "[[1 2]\n",
      " [3 4]\n",
      " [5 6]\n",
      " [6 9]]\n"
     ]
    }
   ],
   "source": [
    "c = np.array([[1,2],[3,4]])\n",
    "d = np.array([[5,6],[6,9]])\n",
    "\n",
    "print(np.vstack((c,d)))"
   ]
  },
  {
   "cell_type": "markdown",
   "metadata": {},
   "source": [
    "The np.vstack() function vertically stacks arrays (row-wise). In this case, it's taking two 2×2 arrays and creating a 4×2 array by stacking them on top of each other.<br>\n",
    "\n",
    "c is a 2×2 array (2 rows, 2 columns) <br>\n",
    "d is a 2×2 array (2 rows, 2 columns) <br>\n",
    "When you vertically stack them with np.vstack(), you're combining the rows while keeping the same number of columns:<br>\n",
    "\n",
    "The result has 4 rows (2 from c + 2 from d)<br>\n",
    "The result has 2 columns (same as both input arrays)<br>"
   ]
  },
  {
   "cell_type": "markdown",
   "metadata": {},
   "source": [
    "# 4. Splitting Arrays✂️\n",
    "Splitting divides an array into multiple parts"
   ]
  },
  {
   "cell_type": "markdown",
   "metadata": {},
   "source": [
    "### ➤ Horizontal Split ✂️ "
   ]
  },
  {
   "cell_type": "code",
   "execution_count": 15,
   "metadata": {},
   "outputs": [
    {
     "name": "stdout",
     "output_type": "stream",
     "text": [
      "[array([[5, 6, 6],\n",
      "       [1, 5, 6]]), array([[ 7,  9, 10],\n",
      "       [ 9, 10,  5]])]\n"
     ]
    }
   ],
   "source": [
    "arr = np.array([[5,6,6,7,9,10],[1,5,6,9,10,5]])\n",
    "\n",
    "print(np.hsplit(arr,2))"
   ]
  },
  {
   "cell_type": "code",
   "execution_count": 16,
   "metadata": {},
   "outputs": [
    {
     "data": {
      "text/plain": [
       "array([[ 5,  6,  6,  7,  9, 10],\n",
       "       [ 1,  5,  6,  9, 10,  5]])"
      ]
     },
     "execution_count": 16,
     "metadata": {},
     "output_type": "execute_result"
    }
   ],
   "source": [
    "arr"
   ]
  },
  {
   "cell_type": "markdown",
   "metadata": {},
   "source": [
    "### ➤ Vertical Split"
   ]
  },
  {
   "cell_type": "code",
   "execution_count": 17,
   "metadata": {},
   "outputs": [
    {
     "name": "stdout",
     "output_type": "stream",
     "text": [
      "[array([[ 5,  6,  6,  7,  9, 10]]), array([[ 1,  5,  6,  9, 10,  5]])]\n"
     ]
    }
   ],
   "source": [
    "print(np.vsplit(arr,2))"
   ]
  },
  {
   "cell_type": "markdown",
   "metadata": {},
   "source": [
    "## 🔄 5. Changing Data Types\n",
    "NumPy allows conversion between data types.\n",
    "\n",
    "### ➤ Example: Converting int to float"
   ]
  },
  {
   "cell_type": "code",
   "execution_count": 18,
   "metadata": {},
   "outputs": [
    {
     "name": "stdout",
     "output_type": "stream",
     "text": [
      "[1. 2. 3.]\n",
      "float64\n"
     ]
    }
   ],
   "source": [
    "arr = np.array([1, 2, 3], dtype='int32')\n",
    "float_arr = arr.astype('float64')\n",
    "\n",
    "print(float_arr)     \n",
    "print(float_arr.dtype)  \n"
   ]
  }
 ],
 "metadata": {
  "kernelspec": {
   "display_name": "base",
   "language": "python",
   "name": "python3"
  },
  "language_info": {
   "codemirror_mode": {
    "name": "ipython",
    "version": 3
   },
   "file_extension": ".py",
   "mimetype": "text/x-python",
   "name": "python",
   "nbconvert_exporter": "python",
   "pygments_lexer": "ipython3",
   "version": "3.12.4"
  }
 },
 "nbformat": 4,
 "nbformat_minor": 2
}
