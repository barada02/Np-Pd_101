{
 "cells": [
  {
   "cell_type": "markdown",
   "metadata": {},
   "source": [
    "# Linear Algebra with NumPy\n",
    "\n",
    "NumPy provides a powerful linear algebra module (```np.linalg```) that enables operations such as matrix multiplication, determinants, inverses, eigenvalues, and more."
   ]
  },
  {
   "cell_type": "markdown",
   "metadata": {},
   "source": [
    "## 1. Dot Product(np.dot())\n",
    "\n",
    "The **dot product** is the sum of the product of corresponding elements in two arrays"
   ]
  },
  {
   "cell_type": "markdown",
   "metadata": {},
   "source": [
    "### ➤ Example:"
   ]
  },
  {
   "cell_type": "code",
   "execution_count": 1,
   "metadata": {},
   "outputs": [],
   "source": [
    "import numpy as np"
   ]
  },
  {
   "cell_type": "code",
   "execution_count": 5,
   "metadata": {},
   "outputs": [
    {
     "name": "stdout",
     "output_type": "stream",
     "text": [
      "Work = F.S: 38 joule\n"
     ]
    }
   ],
   "source": [
    "force = np.array([5,6,7])\n",
    "displacement = np.array([1,2,3])\n",
    "\n",
    "work = np.dot(force,displacement)\n",
    "print(\"Work = F.S:\",work,\"joule\")"
   ]
  },
  {
   "cell_type": "markdown",
   "metadata": {},
   "source": [
    "## 2. Matrix Multiplication (```@``` or ```np.matmul()```) "
   ]
  },
  {
   "cell_type": "markdown",
   "metadata": {},
   "source": [
    "Matrix multiplication follows the rules of linear algebra."
   ]
  },
  {
   "cell_type": "code",
   "execution_count": 6,
   "metadata": {},
   "outputs": [
    {
     "name": "stdout",
     "output_type": "stream",
     "text": [
      "Matrix Multiplication:\n",
      " [[19 22]\n",
      " [43 50]]\n"
     ]
    }
   ],
   "source": [
    "A = np.array([[1, 2], [3, 4]])\n",
    "B = np.array([[5, 6], [7, 8]])\n",
    "\n",
    "# Method 1: Using @ operator\n",
    "result1 = A @ B\n",
    "\n",
    "# Method 2: Using np.matmul()\n",
    "result2 = np.matmul(A, B)\n",
    "\n",
    "print(\"Matrix Multiplication:\\n\", result1)\n"
   ]
  },
  {
   "cell_type": "markdown",
   "metadata": {},
   "source": [
    "# Matrix Multiplication: A Comprehensive Explanation\n",
    "\n",
    "## Basic Concept\n",
    "Matrix multiplication is a fundamental operation in linear algebra that combines two matrices to produce a new matrix. Unlike element-wise multiplication, matrix multiplication follows a specific computational rule.\n",
    "\n",
    "## Conditions for Matrix Multiplication\n",
    "1. **Dimensionality Requirement**: \n",
    "   - For two matrices A and B to be multiplied, the number of columns in matrix A must equal the number of rows in matrix B.\n",
    "   - If A is an m × n matrix and B is an n × p matrix, the result will be an m × p matrix.\n",
    "\n",
    "## Computational Process\n",
    "\n",
    "### Step-by-Step Calculation\n",
    "Let's consider a 2×2 matrix multiplication:\n",
    "\n",
    "A = [[1, 2],    B = [[5, 6],\n",
    "     [3, 4]]         [7, 8]]\n",
    "\n",
    "Calculation steps:\n",
    "1. First row, first column: \n",
    "   (1 × 5) + (2 × 7) = 5 + 14 = 19\n",
    "2. First row, second column:\n",
    "   (1 × 6) + (2 × 8) = 6 + 16 = 22\n",
    "3. Second row, first column:\n",
    "   (3 × 5) + (4 × 7) = 15 + 28 = 43\n",
    "4. Second row, second column:\n",
    "   (3 × 6) + (4 × 8) = 18 + 32 = 50\n",
    "\n",
    "Resulting matrix: \n",
    "[[19, 22],\n",
    " [43, 50]]\n",
    "\n",
    "## Mathematical Notation\n",
    "- For matrices A (m × n) and B (n × p)\n",
    "- Result C (m × p)\n",
    "- C[i,j] = Σ(A[i,k] × B[k,j]) for k = 1 to n\n",
    "\n",
    "## Key Characteristics\n",
    "- **Not Commutative**: A × B ≠ B × A\n",
    "- Requires specific dimensional compatibility\n",
    "- Essential in linear transformations, machine learning, graphics, and many scientific computations\n",
    "\n",
    "## Geometric Interpretation\n",
    "Matrix multiplication can be viewed as:\n",
    "- Linear transformation\n",
    "- Rotation\n",
    "- Scaling\n",
    "- Projection of vectors\n",
    "\n",
    "## Computational Complexity\n",
    "- Time complexity: O(m × n × p) for matrices of dimensions m × n and n × p\n",
    "- Becomes computationally intensive for large matrices"
   ]
  }
 ],
 "metadata": {
  "kernelspec": {
   "display_name": "base",
   "language": "python",
   "name": "python3"
  },
  "language_info": {
   "codemirror_mode": {
    "name": "ipython",
    "version": 3
   },
   "file_extension": ".py",
   "mimetype": "text/x-python",
   "name": "python",
   "nbconvert_exporter": "python",
   "pygments_lexer": "ipython3",
   "version": "3.12.4"
  }
 },
 "nbformat": 4,
 "nbformat_minor": 2
}
