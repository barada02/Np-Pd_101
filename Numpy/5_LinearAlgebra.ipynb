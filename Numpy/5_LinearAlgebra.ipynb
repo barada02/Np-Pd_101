{
 "cells": [
  {
   "cell_type": "markdown",
   "metadata": {},
   "source": [
    "# Linear Algebra with NumPy\n",
    "\n",
    "NumPy provides a powerful linear algebra module (```np.linalg```) that enables operations such as matrix multiplication, determinants, inverses, eigenvalues, and more."
   ]
  },
  {
   "cell_type": "markdown",
   "metadata": {},
   "source": [
    "## 1. Dot Product(np.dot())\n",
    "\n",
    "The **dot product** is the sum of the product of corresponding elements in two arrays"
   ]
  },
  {
   "cell_type": "markdown",
   "metadata": {},
   "source": [
    "### ➤ Example:"
   ]
  },
  {
   "cell_type": "code",
   "execution_count": 1,
   "metadata": {},
   "outputs": [],
   "source": [
    "import numpy as np"
   ]
  },
  {
   "cell_type": "code",
   "execution_count": 5,
   "metadata": {},
   "outputs": [
    {
     "name": "stdout",
     "output_type": "stream",
     "text": [
      "Work = F.S: 38 joule\n"
     ]
    }
   ],
   "source": [
    "force = np.array([5,6,7])\n",
    "displacement = np.array([1,2,3])\n",
    "\n",
    "work = np.dot(force,displacement)\n",
    "print(\"Work = F.S:\",work,\"joule\")"
   ]
  },
  {
   "cell_type": "markdown",
   "metadata": {},
   "source": [
    "## 2. Matrix Multiplication (```@``` or ```np.matmul()```) "
   ]
  },
  {
   "cell_type": "markdown",
   "metadata": {},
   "source": [
    "Matrix multiplication follows the rules of linear algebra."
   ]
  },
  {
   "cell_type": "code",
   "execution_count": 6,
   "metadata": {},
   "outputs": [
    {
     "name": "stdout",
     "output_type": "stream",
     "text": [
      "Matrix Multiplication:\n",
      " [[19 22]\n",
      " [43 50]]\n"
     ]
    }
   ],
   "source": [
    "A = np.array([[1, 2], [3, 4]])\n",
    "B = np.array([[5, 6], [7, 8]])\n",
    "\n",
    "# Method 1: Using @ operator\n",
    "result1 = A @ B\n",
    "\n",
    "# Method 2: Using np.matmul()\n",
    "result2 = np.matmul(A, B)\n",
    "\n",
    "print(\"Matrix Multiplication:\\n\", result1)\n"
   ]
  },
  {
   "cell_type": "markdown",
   "metadata": {},
   "source": [
    "# Matrix Multiplication: A Comprehensive Explanation\n",
    "\n",
    "## Basic Concept\n",
    "Matrix multiplication is a fundamental operation in linear algebra that combines two matrices to produce a new matrix. Unlike element-wise multiplication, matrix multiplication follows a specific computational rule.\n",
    "\n",
    "## Conditions for Matrix Multiplication\n",
    "1. **Dimensionality Requirement**: \n",
    "   - For two matrices A and B to be multiplied, the number of columns in matrix A must equal the number of rows in matrix B.\n",
    "   - If A is an m × n matrix and B is an n × p matrix, the result will be an m × p matrix.\n",
    "\n",
    "## Computational Process\n",
    "\n",
    "### Step-by-Step Calculation\n",
    "Let's consider a 2×2 matrix multiplication:\n",
    "\n",
    "A = [[1, 2],    B = [[5, 6],\n",
    "     [3, 4]]         [7, 8]]\n",
    "\n",
    "Calculation steps:\n",
    "1. First row, first column: \n",
    "   (1 × 5) + (2 × 7) = 5 + 14 = 19\n",
    "2. First row, second column:\n",
    "   (1 × 6) + (2 × 8) = 6 + 16 = 22\n",
    "3. Second row, first column:\n",
    "   (3 × 5) + (4 × 7) = 15 + 28 = 43\n",
    "4. Second row, second column:\n",
    "   (3 × 6) + (4 × 8) = 18 + 32 = 50\n",
    "\n",
    "Resulting matrix: \n",
    "[[19, 22],\n",
    " [43, 50]]\n",
    "\n",
    "## Mathematical Notation\n",
    "- For matrices A (m × n) and B (n × p)\n",
    "- Result C (m × p)\n",
    "- C[i,j] = Σ(A[i,k] × B[k,j]) for k = 1 to n\n",
    "\n",
    "## Key Characteristics\n",
    "- **Not Commutative**: A × B ≠ B × A\n",
    "- Requires specific dimensional compatibility\n",
    "- Essential in linear transformations, machine learning, graphics, and many scientific computations\n",
    "\n",
    "## Geometric Interpretation\n",
    "Matrix multiplication can be viewed as:\n",
    "- Linear transformation\n",
    "- Rotation\n",
    "- Scaling\n",
    "- Projection of vectors\n",
    "\n",
    "## Computational Complexity\n",
    "- Time complexity: O(m × n × p) for matrices of dimensions m × n and n × p\n",
    "- Becomes computationally intensive for large matrices"
   ]
  },
  {
   "cell_type": "markdown",
   "metadata": {},
   "source": [
    "## 3. Determinant of a Matrix (```np.linalg.det()```)\n",
    "The determinant is a **scalar value** that can be computed from a square matrix."
   ]
  },
  {
   "cell_type": "code",
   "execution_count": 7,
   "metadata": {},
   "outputs": [
    {
     "name": "stdout",
     "output_type": "stream",
     "text": [
      "Determinant: -2.0000000000000004\n"
     ]
    }
   ],
   "source": [
    "C = np.array([[1, 2], [3, 4]])\n",
    "determinant = np.linalg.det(C)\n",
    "print(\"Determinant:\", determinant)  \n"
   ]
  },
  {
   "cell_type": "markdown",
   "metadata": {},
   "source": [
    "# Determinant: A Comprehensive Overview\n",
    "\n",
    "## Definition\n",
    "A determinant is a scalar value that can be computed from the elements of a square matrix. It provides crucial information about the matrix's properties and transformations.\n",
    "\n",
    "## Mathematical Significance\n",
    "1. **Invertibility Test**\n",
    "   - If determinant = 0: Matrix is singular (non-invertible)\n",
    "   - If determinant ≠ 0: Matrix is invertible\n",
    "\n",
    "2. **Geometric Interpretation**\n",
    "   - Represents the scaling factor of a linear transformation\n",
    "   - Indicates the area or volume change when a matrix transforms space\n",
    "\n",
    "## Calculation Methods\n",
    "\n",
    "### 2×2 Matrix Determinant\n",
    "For a matrix A = [[a, b], [c, d]]\n",
    "Determinant = ad - bc\n",
    "\n",
    "**Example**:\n",
    "C = [[1, 2],\n",
    "     [3, 4]]\n",
    "\n",
    "Calculation:\n",
    "- Determinant = (1 × 4) - (2 × 3)\n",
    "- Determinant = 4 - 6\n",
    "- Determinant = -2\n",
    "\n",
    "## Key Properties\n",
    "1. Changing row/column order changes sign of determinant\n",
    "2. Multiplying a row/column by a scalar multiplies determinant by that scalar\n",
    "3. Adding a multiple of one row/column to another doesn't change the determinant\n",
    "\n",
    "## Computational Complexity\n",
    "- 2×2 matrix: O(1)\n",
    "- Larger matrices: O(n³) for naive methods\n",
    "- Specialized algorithms can improve efficiency\n"
   ]
  },
  {
   "cell_type": "markdown",
   "metadata": {},
   "source": [
    "## 4. Inverse of a Matrix (```np.linalg.inv()```)\n",
    "The inverse of a matrix is a matrix that, when multiplied with the original, results in the identity matrix."
   ]
  },
  {
   "cell_type": "code",
   "execution_count": 8,
   "metadata": {},
   "outputs": [
    {
     "name": "stdout",
     "output_type": "stream",
     "text": [
      "Inverse Matrix:\n",
      " [[ 0.6 -0.7]\n",
      " [-0.2  0.4]]\n"
     ]
    }
   ],
   "source": [
    "D = np.array([[4, 7], [2, 6]])\n",
    "inverse_D = np.linalg.inv(D)\n",
    "print(\"Inverse Matrix:\\n\", inverse_D)\n"
   ]
  },
  {
   "cell_type": "markdown",
   "metadata": {},
   "source": [
    "# Matrix Inversion: A Comprehensive Guide\n",
    "\n",
    "## Definition\n",
    "A matrix inverse is a special matrix that, when multiplied with the original matrix, produces the identity matrix.\n",
    "\n",
    "## Key Characteristics\n",
    "1. **Existence Conditions**\n",
    "   - Only square matrices can have inverses\n",
    "   - Matrix must be non-singular (determinant ≠ 0)\n",
    "\n",
    "## Calculation Method for 2×2 Matrix\n",
    "\n",
    "### Formula\n",
    "For a matrix A = [[a, b], [c, d]]\n",
    "Inverse = (1 / determinant) × [[d, -b], [-c, a]]\n",
    "\n",
    "**Steps for Inversion**:\n",
    "1. Calculate the determinant\n",
    "2. Swap diagonal elements\n",
    "3. Negate off-diagonal elements\n",
    "4. Multiply by 1/determinant\n",
    "\n",
    "### Example Matrix D = [[4, 7], [2, 6]]\n",
    "1. Determinant = (4 × 6) - (7 × 2) = 24 - 14 = 10\n",
    "2. Swapped diagonal: [[6, -7], [-2, 4]]\n",
    "3. Scaled by 1/10: [[0.6, -0.7], [-0.2, 0.4]]\n",
    "\n",
    "## Mathematical Properties\n",
    "- A × A⁻¹ = Identity Matrix\n",
    "- (A⁻¹)⁻¹ = A\n",
    "- (AB)⁻¹ = B⁻¹A⁻¹\n",
    "\n",
    "## Computational Significance\n",
    "- Essential for solving linear systems\n",
    "- Used in:\n",
    "  - Machine learning\n",
    "  - Computer graphics\n",
    "  - Economic modeling\n",
    "  - Scientific simulations\n",
    "\n",
    "## Numerical Considerations\n",
    "- Small determinant values can lead to numerical instability\n",
    "- Computational methods use specialized algorithms to handle precision"
   ]
  }
 ],
 "metadata": {
  "kernelspec": {
   "display_name": "base",
   "language": "python",
   "name": "python3"
  },
  "language_info": {
   "codemirror_mode": {
    "name": "ipython",
    "version": 3
   },
   "file_extension": ".py",
   "mimetype": "text/x-python",
   "name": "python",
   "nbconvert_exporter": "python",
   "pygments_lexer": "ipython3",
   "version": "3.12.4"
  }
 },
 "nbformat": 4,
 "nbformat_minor": 2
}
