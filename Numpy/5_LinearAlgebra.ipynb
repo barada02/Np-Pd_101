{
 "cells": [
  {
   "cell_type": "markdown",
   "metadata": {},
   "source": [
    "# Linear Algebra with NumPy\n",
    "\n",
    "NumPy provides a powerful linear algebra module (```np.linalg```) that enables operations such as matrix multiplication, determinants, inverses, eigenvalues, and more."
   ]
  },
  {
   "cell_type": "markdown",
   "metadata": {},
   "source": [
    "## 1. Dot Product(np.dot())\n",
    "\n",
    "The **dot product** is the sum of the product of corresponding elements in two arrays"
   ]
  },
  {
   "cell_type": "markdown",
   "metadata": {},
   "source": [
    "### ➤ Example:"
   ]
  },
  {
   "cell_type": "code",
   "execution_count": 1,
   "metadata": {},
   "outputs": [],
   "source": [
    "import numpy as np"
   ]
  },
  {
   "cell_type": "code",
   "execution_count": 5,
   "metadata": {},
   "outputs": [
    {
     "name": "stdout",
     "output_type": "stream",
     "text": [
      "Work = F.S: 38 joule\n"
     ]
    }
   ],
   "source": [
    "force = np.array([5,6,7])\n",
    "displacement = np.array([1,2,3])\n",
    "\n",
    "work = np.dot(force,displacement)\n",
    "print(\"Work = F.S:\",work,\"joule\")"
   ]
  }
 ],
 "metadata": {
  "kernelspec": {
   "display_name": "base",
   "language": "python",
   "name": "python3"
  },
  "language_info": {
   "codemirror_mode": {
    "name": "ipython",
    "version": 3
   },
   "file_extension": ".py",
   "mimetype": "text/x-python",
   "name": "python",
   "nbconvert_exporter": "python",
   "pygments_lexer": "ipython3",
   "version": "3.12.4"
  }
 },
 "nbformat": 4,
 "nbformat_minor": 2
}
