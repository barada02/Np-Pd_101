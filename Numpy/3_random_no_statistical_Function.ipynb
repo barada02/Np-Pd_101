{
 "cells": [
  {
   "cell_type": "markdown",
   "metadata": {},
   "source": [
    "# Random Number Generation and Statistical Functions in NumPy\n"
   ]
  },
  {
   "cell_type": "markdown",
   "metadata": {},
   "source": [
    " ## 1. Generating Random Numbers with np.random 🎲\n",
    "The np.random module is used to generate random numbers efficiently."
   ]
  },
  {
   "cell_type": "markdown",
   "metadata": {},
   "source": [
    "\n",
    "### ➤ **Basic Random Number Functions**\n",
    "| Function                     | Description                        | Example Output |\n",
    "|-----------------------------|------------------------------------|-----------------|\n",
    "| `np.random.random(size)`      | Random floats in range [0, 1)      | `[0.23 0.75 0.51]` |\n",
    "| `np.random.randint(low, high, size)` | Random integers in range [low, high) | `[5 8 3]` |\n",
    "| `np.random.rand(dim1, dim2)`  | Random floats in range [0, 1) with shape | `[[0.1 0.5] [0.9 0.2]]` |\n",
    "| `np.random.randn(dim1, dim2)` | Random samples from **standard normal distribution** | `[[-1.2 0.8] [1.5 -0.3]]` |\n",
    "| `np.random.choice(list)`      | Randomly picks values from a list  | `[3 1 5]` |\n",
    "\n",
    "---\n",
    "\n",
    "\n"
   ]
  },
  {
   "cell_type": "code",
   "execution_count": 1,
   "metadata": {},
   "outputs": [],
   "source": [
    "import numpy as np"
   ]
  },
  {
   "cell_type": "code",
   "execution_count": 8,
   "metadata": {},
   "outputs": [
    {
     "name": "stdout",
     "output_type": "stream",
     "text": [
      "0.680499677670569\n"
     ]
    }
   ],
   "source": [
    "# Generate a random float between 0 and 1\n",
    "print(np.random.random())"
   ]
  },
  {
   "cell_type": "code",
   "execution_count": null,
   "metadata": {},
   "outputs": [
    {
     "name": "stdout",
     "output_type": "stream",
     "text": [
      "[[0.42262409 0.68415566 0.05012964 0.40685472]\n",
      " [0.42080258 0.57203186 0.16383708 0.56558448]\n",
      " [0.46000115 0.61701878 0.88575529 0.42704034]]\n"
     ]
    }
   ],
   "source": [
    "# Generate an array of random floats\n",
    "print(np.random.random((3,4))) # np.random.random(size=(3,4))\n",
    "# 3x4 array of random floats"
   ]
  },
  {
   "cell_type": "markdown",
   "metadata": {},
   "source": [
    "##### Generate random integers between low and high\n",
    "   5 random integers between 1 and 99"
   ]
  },
  {
   "cell_type": "code",
   "execution_count": null,
   "metadata": {},
   "outputs": [
    {
     "name": "stdout",
     "output_type": "stream",
     "text": [
      "[17 75 48 76 96]\n"
     ]
    }
   ],
   "source": [
    "# Generate random integers between low and high\n",
    "random_ints = np.random.randint(low=1, high=100, size=5) \n",
    "\n",
    "print(random_ints) "
   ]
  },
  {
   "cell_type": "code",
   "execution_count": 13,
   "metadata": {},
   "outputs": [
    {
     "name": "stdout",
     "output_type": "stream",
     "text": [
      "[165 122 100 132 128 102 159  44 115 162 151 176]\n"
     ]
    }
   ],
   "source": [
    "print(np.random.randint(20,200,12))"
   ]
  },
  {
   "cell_type": "markdown",
   "metadata": {},
   "source": [
    "**Random Integers (between 1 and 10) in 3X3 a metrix** "
   ]
  },
  {
   "cell_type": "code",
   "execution_count": null,
   "metadata": {},
   "outputs": [
    {
     "name": "stdout",
     "output_type": "stream",
     "text": [
      "[[8 7 2]\n",
      " [6 7 3]\n",
      " [4 4 2]]\n"
     ]
    }
   ],
   "source": [
    "\n",
    "print(np.random.randint(1, 10, (3, 3))) "
   ]
  },
  {
   "cell_type": "markdown",
   "metadata": {},
   "source": [
    "### Random Numbers from a Normal Distribution"
   ]
  },
  {
   "cell_type": "code",
   "execution_count": 15,
   "metadata": {},
   "outputs": [
    {
     "name": "stdout",
     "output_type": "stream",
     "text": [
      "[[ 0.32876365 -1.53945362  1.01333097]\n",
      " [ 0.06048204 -1.18876383  0.54143872]]\n"
     ]
    }
   ],
   "source": [
    "\n",
    "print(np.random.randn(2, 3))"
   ]
  },
  {
   "cell_type": "markdown",
   "metadata": {},
   "source": [
    "#### Random Choice from List\n"
   ]
  },
  {
   "cell_type": "code",
   "execution_count": 16,
   "metadata": {},
   "outputs": [
    {
     "name": "stdout",
     "output_type": "stream",
     "text": [
      "[30 10 50]\n"
     ]
    }
   ],
   "source": [
    "print(np.random.choice([10, 20, 30, 40, 50], 3))"
   ]
  },
  {
   "cell_type": "markdown",
   "metadata": {},
   "source": []
  }
 ],
 "metadata": {
  "kernelspec": {
   "display_name": "base",
   "language": "python",
   "name": "python3"
  },
  "language_info": {
   "codemirror_mode": {
    "name": "ipython",
    "version": 3
   },
   "file_extension": ".py",
   "mimetype": "text/x-python",
   "name": "python",
   "nbconvert_exporter": "python",
   "pygments_lexer": "ipython3",
   "version": "3.12.4"
  }
 },
 "nbformat": 4,
 "nbformat_minor": 2
}
