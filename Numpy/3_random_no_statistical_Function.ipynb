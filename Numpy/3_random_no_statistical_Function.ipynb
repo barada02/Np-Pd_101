{
 "cells": [
  {
   "cell_type": "markdown",
   "metadata": {},
   "source": [
    "# Random Number Generation and Statistical Functions in NumPy\n"
   ]
  },
  {
   "cell_type": "markdown",
   "metadata": {},
   "source": [
    " ## 1. Generating Random Numbers with np.random 🎲\n",
    "The np.random module is used to generate random numbers efficiently."
   ]
  },
  {
   "cell_type": "markdown",
   "metadata": {},
   "source": []
  },
  {
   "cell_type": "markdown",
   "metadata": {},
   "source": [
    "\n",
    "### ➤ **Basic Random Number Functions**\n",
    "| Function                     | Description                        | Example Output |\n",
    "|-----------------------------|------------------------------------|-----------------|\n",
    "| `np.random.random(size)`      | Random floats in range [0, 1)      | `[0.23 0.75 0.51]` |\n",
    "| `np.random.randint(low, high, size)` | Random integers in range [low, high) | `[5 8 3]` |\n",
    "| `np.random.rand(dim1, dim2)`  | Random floats in range [0, 1) with shape | `[[0.1 0.5] [0.9 0.2]]` |\n",
    "| `np.random.randn(dim1, dim2)` | Random samples from **standard normal distribution** | `[[-1.2 0.8] [1.5 -0.3]]` |\n",
    "| `np.random.choice(list)`      | Randomly picks values from a list  | `[3 1 5]` |\n",
    "\n",
    "---\n",
    "\n",
    "\n"
   ]
  }
 ],
 "metadata": {
  "kernelspec": {
   "display_name": "base",
   "language": "python",
   "name": "python3"
  },
  "language_info": {
   "name": "python",
   "version": "3.12.4"
  }
 },
 "nbformat": 4,
 "nbformat_minor": 2
}
