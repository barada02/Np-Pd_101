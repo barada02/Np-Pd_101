{
 "cells": [
  {
   "cell_type": "markdown",
   "metadata": {},
   "source": [
    "#  **2. Statistical Functions in NumPy** 📊"
   ]
  },
  {
   "cell_type": "markdown",
   "metadata": {},
   "source": [
    "\n",
    "\n",
    "\n",
    "\n",
    "NumPy provides various functions for **descriptive statistics**.\n",
    "\n",
    "| Function         | Description                          |\n",
    "|------------------|--------------------------------------|\n",
    "| `np.mean()`        | Mean (average) of values             |\n",
    "| `np.median()`      | Median of values                     |\n",
    "| `np.std()`         | Standard deviation                   |\n",
    "| `np.var()`         | Variance                             |\n",
    "| `np.min()`         | Minimum value                        |\n",
    "| `np.max()`         | Maximum value                        |\n",
    "| `np.percentile()`  | nth percentile of array elements     |\n",
    "\n",
    "\n",
    " \n"
   ]
  },
  {
   "cell_type": "code",
   "execution_count": 1,
   "metadata": {},
   "outputs": [],
   "source": [
    "import numpy as np"
   ]
  },
  {
   "cell_type": "code",
   "execution_count": 2,
   "metadata": {},
   "outputs": [
    {
     "name": "stdout",
     "output_type": "stream",
     "text": [
      "Mean: 13.3\n"
     ]
    }
   ],
   "source": [
    "arr = np.array([4,5,9,7,8,9,2,5,15,69])\n",
    "\n",
    "print(\"Mean:\", np.mean(arr))"
   ]
  },
  {
   "cell_type": "code",
   "execution_count": 3,
   "metadata": {},
   "outputs": [
    {
     "name": "stdout",
     "output_type": "stream",
     "text": [
      "Median: 7.5\n"
     ]
    }
   ],
   "source": [
    "print(\"Median:\",np.median(arr))"
   ]
  },
  {
   "cell_type": "code",
   "execution_count": 4,
   "metadata": {},
   "outputs": [
    {
     "name": "stdout",
     "output_type": "stream",
     "text": [
      "Standard Deviation: 18.87352643254567\n"
     ]
    }
   ],
   "source": [
    "print(\"Standard Deviation:\",np.std(arr))"
   ]
  },
  {
   "cell_type": "code",
   "execution_count": 5,
   "metadata": {},
   "outputs": [
    {
     "name": "stdout",
     "output_type": "stream",
     "text": [
      "Variance: 356.21000000000004\n"
     ]
    }
   ],
   "source": [
    "print(\"Variance:\",np.var(arr))"
   ]
  },
  {
   "cell_type": "code",
   "execution_count": 6,
   "metadata": {},
   "outputs": [
    {
     "name": "stdout",
     "output_type": "stream",
     "text": [
      "min: 2\n"
     ]
    }
   ],
   "source": [
    "print(\"min:\",np.min(arr))\n"
   ]
  },
  {
   "cell_type": "code",
   "execution_count": 7,
   "metadata": {},
   "outputs": [
    {
     "name": "stdout",
     "output_type": "stream",
     "text": [
      "Max: 69\n"
     ]
    }
   ],
   "source": [
    "print(\"Max:\",np.max(arr))"
   ]
  },
  {
   "cell_type": "code",
   "execution_count": 9,
   "metadata": {},
   "outputs": [
    {
     "name": "stdout",
     "output_type": "stream",
     "text": [
      "90th percentile: 20.39999999999998\n"
     ]
    }
   ],
   "source": [
    "print(\"90th percentile:\", np.percentile(arr,90))"
   ]
  },
  {
   "cell_type": "markdown",
   "metadata": {},
   "source": [
    "#  **Sorting and Searching** 📉"
   ]
  },
  {
   "cell_type": "markdown",
   "metadata": {},
   "source": [
    "### ➤ Sorting an Array"
   ]
  },
  {
   "cell_type": "code",
   "execution_count": 10,
   "metadata": {},
   "outputs": [],
   "source": [
    "arr = np.array([5,9,6,7,2,6])"
   ]
  },
  {
   "cell_type": "code",
   "execution_count": 11,
   "metadata": {},
   "outputs": [
    {
     "name": "stdout",
     "output_type": "stream",
     "text": [
      "[2 5 6 6 7 9]\n"
     ]
    }
   ],
   "source": [
    "print(np.sort(arr))"
   ]
  },
  {
   "cell_type": "markdown",
   "metadata": {},
   "source": [
    "### ➤ Searching for Elements"
   ]
  },
  {
   "cell_type": "markdown",
   "metadata": {},
   "source": [
    "* ```np.where()``` → Returns the indices of elements that satisfy a condition.\n",
    "\n",
    "* ```np.argmax()``` → Returns the index of the maximum value.\n",
    "\n",
    "* ```np.argmin()``` → Returns the index of the minimum value."
   ]
  },
  {
   "cell_type": "code",
   "execution_count": 16,
   "metadata": {},
   "outputs": [
    {
     "name": "stdout",
     "output_type": "stream",
     "text": [
      "[5 9 6 7 2 6]\n"
     ]
    }
   ],
   "source": [
    "print(arr)"
   ]
  },
  {
   "cell_type": "code",
   "execution_count": 14,
   "metadata": {},
   "outputs": [
    {
     "name": "stdout",
     "output_type": "stream",
     "text": [
      "(array([], dtype=int64),)\n",
      "(array([1, 2, 3, 5], dtype=int64),)\n"
     ]
    }
   ],
   "source": [
    "print(np.where(arr>15))\n",
    "print(np.where(arr>5))"
   ]
  },
  {
   "cell_type": "code",
   "execution_count": 15,
   "metadata": {},
   "outputs": [
    {
     "name": "stdout",
     "output_type": "stream",
     "text": [
      "1\n"
     ]
    }
   ],
   "source": [
    "print(np.argmax(arr))"
   ]
  },
  {
   "cell_type": "code",
   "execution_count": 17,
   "metadata": {},
   "outputs": [
    {
     "name": "stdout",
     "output_type": "stream",
     "text": [
      "4\n"
     ]
    }
   ],
   "source": [
    "print(np.argmin(arr))"
   ]
  },
  {
   "cell_type": "markdown",
   "metadata": {},
   "source": [
    "### ✅ Practice Tasks\n",
    "1. Generate a 3x3 random integer matrix with values between 1 and 100.\n",
    "\n",
    "    * Find its mean, median, and standard deviation.\n",
    "\n",
    "2. Create an array of 10 random numbers between 1 and 50 and sort them.\n",
    "\n",
    "3. Create an array of 20 random numbers and filter all values greater than 25.\n",
    "\n",
    "4. Generate a 4x4 matrix of random values from a normal distribution."
   ]
  },
  {
   "cell_type": "markdown",
   "metadata": {},
   "source": [
    "# Statistical Concepts in NumPy\n",
    "\n",
    "## 1. Mean (Average)\n",
    "### Formula: \n",
    "μ = (Σ x) / n\n",
    "Where:\n",
    "- μ is the mean\n",
    "- Σ x represents the sum of all values\n",
    "- n is the total number of values\n",
    "\n",
    "**Meaning**: The arithmetic average that represents the central tendency of a dataset. It's calculated by adding all values and dividing by the total number of values.\n",
    "\n",
    "## 2. Median\n",
    "### Formula:\n",
    "- For odd number of values: Middle value after sorting\n",
    "- For even number of values: Average of two middle values\n",
    "\n",
    "**Meaning**: The middle value in a sorted dataset. It divides the data into two equal halves, making it less sensitive to extreme outliers compared to the mean.\n",
    "\n",
    "## 3. Standard Deviation (σ)\n",
    "### Formula:\n",
    "σ = √[Σ(x - μ)² / n]\n",
    "Where:\n",
    "- σ is standard deviation\n",
    "- x represents each value\n",
    "- μ is the mean\n",
    "- n is the total number of values\n",
    "\n",
    "**Meaning**: A measure of data dispersion that indicates how spread out the values are from the mean. A low standard deviation suggests values are close to the mean, while a high value indicates more variability.\n",
    "\n",
    "## 4. Variance\n",
    "### Formula:\n",
    "σ² = Σ(x - μ)² / n\n",
    "Where:\n",
    "- σ² is variance\n",
    "- x represents each value\n",
    "- μ is the mean\n",
    "- n is the total number of values\n",
    "\n",
    "**Meaning**: The average of the squared differences from the mean. It's essentially the square of standard deviation and provides insight into data variability.\n",
    "\n",
    "## 5. Min and Max\n",
    "### Formulas:\n",
    "- Min: Lowest value in the dataset\n",
    "- Max: Highest value in the dataset\n",
    "\n",
    "**Meaning**: Provide the range boundaries of the dataset, helping to understand the spread of data.\n",
    "\n",
    "## 6. Percentile\n",
    "### Formula:\n",
    "P = (k/100) * (n+1)\n",
    "Where:\n",
    "- P is the percentile position\n",
    "- k is the desired percentile (e.g., 90)\n",
    "- n is the total number of values\n",
    "\n",
    "**Meaning**: The value below which a given percentage of observations fall. The 90th percentile means 90% of the data points are below this value.\n",
    "\n",
    "### Practical Example\n",
    "In the given array `[1, 2, 3, 4, 5, 6]`:\n",
    "- Mean (3.5): Central tendency\n",
    "- Median (3.5): Middle point\n",
    "- Standard Deviation (1.707): Spread of data\n",
    "- Variance (2.916): Squared spread\n",
    "- Min (1) and Max (6): Data range\n",
    "- 90th Percentile (5.5): 90% of values are below 5.5"
   ]
  }
 ],
 "metadata": {
  "kernelspec": {
   "display_name": "base",
   "language": "python",
   "name": "python3"
  },
  "language_info": {
   "codemirror_mode": {
    "name": "ipython",
    "version": 3
   },
   "file_extension": ".py",
   "mimetype": "text/x-python",
   "name": "python",
   "nbconvert_exporter": "python",
   "pygments_lexer": "ipython3",
   "version": "3.12.4"
  }
 },
 "nbformat": 4,
 "nbformat_minor": 2
}
