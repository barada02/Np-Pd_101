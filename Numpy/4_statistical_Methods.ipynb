{
 "cells": [
  {
   "cell_type": "markdown",
   "metadata": {},
   "source": [
    "#  **2. Statistical Functions in NumPy** 📊"
   ]
  },
  {
   "cell_type": "markdown",
   "metadata": {},
   "source": [
    "\n",
    "\n",
    "\n",
    "\n",
    "NumPy provides various functions for **descriptive statistics**.\n",
    "\n",
    "| Function         | Description                          |\n",
    "|------------------|--------------------------------------|\n",
    "| `np.mean()`        | Mean (average) of values             |\n",
    "| `np.median()`      | Median of values                     |\n",
    "| `np.std()`         | Standard deviation                   |\n",
    "| `np.var()`         | Variance                             |\n",
    "| `np.min()`         | Minimum value                        |\n",
    "| `np.max()`         | Maximum value                        |\n",
    "| `np.percentile()`  | nth percentile of array elements     |\n",
    "\n",
    "\n",
    " \n"
   ]
  },
  {
   "cell_type": "code",
   "execution_count": 1,
   "metadata": {},
   "outputs": [],
   "source": [
    "import numpy as np"
   ]
  },
  {
   "cell_type": "code",
   "execution_count": 2,
   "metadata": {},
   "outputs": [
    {
     "name": "stdout",
     "output_type": "stream",
     "text": [
      "Mean: 13.3\n"
     ]
    }
   ],
   "source": [
    "arr = np.array([4,5,9,7,8,9,2,5,15,69])\n",
    "\n",
    "print(\"Mean:\", np.mean(arr))"
   ]
  },
  {
   "cell_type": "code",
   "execution_count": 3,
   "metadata": {},
   "outputs": [
    {
     "name": "stdout",
     "output_type": "stream",
     "text": [
      "Median: 7.5\n"
     ]
    }
   ],
   "source": [
    "print(\"Median:\",np.median(arr))"
   ]
  },
  {
   "cell_type": "code",
   "execution_count": 4,
   "metadata": {},
   "outputs": [
    {
     "name": "stdout",
     "output_type": "stream",
     "text": [
      "Standard Deviation: 18.87352643254567\n"
     ]
    }
   ],
   "source": [
    "print(\"Standard Deviation:\",np.std(arr))"
   ]
  },
  {
   "cell_type": "code",
   "execution_count": 5,
   "metadata": {},
   "outputs": [
    {
     "name": "stdout",
     "output_type": "stream",
     "text": [
      "Variance: 356.21000000000004\n"
     ]
    }
   ],
   "source": [
    "print(\"Variance:\",np.var(arr))"
   ]
  },
  {
   "cell_type": "code",
   "execution_count": 6,
   "metadata": {},
   "outputs": [
    {
     "name": "stdout",
     "output_type": "stream",
     "text": [
      "min: 2\n"
     ]
    }
   ],
   "source": [
    "print(\"min:\",np.min(arr))\n"
   ]
  },
  {
   "cell_type": "code",
   "execution_count": 7,
   "metadata": {},
   "outputs": [
    {
     "name": "stdout",
     "output_type": "stream",
     "text": [
      "Max: 69\n"
     ]
    }
   ],
   "source": [
    "print(\"Max:\",np.max(arr))"
   ]
  },
  {
   "cell_type": "code",
   "execution_count": 9,
   "metadata": {},
   "outputs": [
    {
     "name": "stdout",
     "output_type": "stream",
     "text": [
      "90th percentile: 20.39999999999998\n"
     ]
    }
   ],
   "source": [
    "print(\"90th percentile:\", np.percentile(arr,90))"
   ]
  }
 ],
 "metadata": {
  "kernelspec": {
   "display_name": "base",
   "language": "python",
   "name": "python3"
  },
  "language_info": {
   "codemirror_mode": {
    "name": "ipython",
    "version": 3
   },
   "file_extension": ".py",
   "mimetype": "text/x-python",
   "name": "python",
   "nbconvert_exporter": "python",
   "pygments_lexer": "ipython3",
   "version": "3.12.4"
  }
 },
 "nbformat": 4,
 "nbformat_minor": 2
}
