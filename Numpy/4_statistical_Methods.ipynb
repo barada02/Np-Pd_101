{
 "cells": [
  {
   "cell_type": "markdown",
   "metadata": {},
   "source": [
    "#  **2. Statistical Functions in NumPy** 📊"
   ]
  },
  {
   "cell_type": "markdown",
   "metadata": {},
   "source": [
    "\n",
    "\n",
    "\n",
    "\n",
    "NumPy provides various functions for **descriptive statistics**.\n",
    "\n",
    "| Function         | Description                          |\n",
    "|------------------|--------------------------------------|\n",
    "| `np.mean()`        | Mean (average) of values             |\n",
    "| `np.median()`      | Median of values                     |\n",
    "| `np.std()`         | Standard deviation                   |\n",
    "| `np.var()`         | Variance                             |\n",
    "| `np.min()`         | Minimum value                        |\n",
    "| `np.max()`         | Maximum value                        |\n",
    "| `np.percentile()`  | nth percentile of array elements     |\n",
    "\n",
    "\n",
    " \n"
   ]
  }
 ],
 "metadata": {
  "kernelspec": {
   "display_name": "base",
   "language": "python",
   "name": "python3"
  },
  "language_info": {
   "name": "python",
   "version": "3.12.4"
  }
 },
 "nbformat": 4,
 "nbformat_minor": 2
}
