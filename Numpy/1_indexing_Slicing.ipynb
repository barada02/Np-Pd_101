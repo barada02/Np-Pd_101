{
 "cells": [
  {
   "cell_type": "markdown",
   "metadata": {},
   "source": [
    "# Indexing and Slicing in NumPy"
   ]
  },
  {
   "cell_type": "markdown",
   "metadata": {},
   "source": [
    "##  1. Indexing in NumPy 🔎\n",
    "NumPy uses zero-based indexing like Python lists."
   ]
  },
  {
   "cell_type": "markdown",
   "metadata": {},
   "source": [
    "### ➤ 1D Array Indexing"
   ]
  },
  {
   "cell_type": "code",
   "execution_count": 1,
   "metadata": {},
   "outputs": [],
   "source": [
    "import numpy as np"
   ]
  },
  {
   "cell_type": "code",
   "execution_count": 3,
   "metadata": {},
   "outputs": [
    {
     "name": "stdout",
     "output_type": "stream",
     "text": [
      "15\n",
      "95\n",
      "35\n"
     ]
    }
   ],
   "source": [
    "arr = np.array([15,25,35,65,95])\n",
    "\n",
    "print(arr[0]) # As usual first\n",
    "print(arr[-1]) # Last\n",
    "print(arr[2]) # n+1 th element"
   ]
  },
  {
   "cell_type": "markdown",
   "metadata": {},
   "source": [
    "### ➤ 2D Array Indexing\n",
    "For 2D arrays, use row index and column index.\n",
    "\n",
    "\n"
   ]
  },
  {
   "cell_type": "code",
   "execution_count": 4,
   "metadata": {},
   "outputs": [
    {
     "name": "stdout",
     "output_type": "stream",
     "text": [
      "6\n",
      "1\n"
     ]
    }
   ],
   "source": [
    "arr = np.array([\n",
    "    [1, 2, 3],\n",
    "    [4, 5, 6],\n",
    "    [7, 8, 9]\n",
    "])\n",
    "\n",
    "print(arr[1, 2])   # Element at 2nd row, 3rd column → 6\n",
    "print(arr[0, 0])   # Element at 1st row, 1st column → 1\n"
   ]
  },
  {
   "cell_type": "markdown",
   "metadata": {},
   "source": [
    "### ➤ 3D Array Indexing\n",
    "For 3D arrays, use depth, row, and column indices."
   ]
  },
  {
   "cell_type": "code",
   "execution_count": 8,
   "metadata": {},
   "outputs": [
    {
     "name": "stdout",
     "output_type": "stream",
     "text": [
      "[[[15 25]\n",
      "  [35 69]]\n",
      "\n",
      " [[56 65]\n",
      "  [56 89]]\n",
      "\n",
      " [[15 94]\n",
      "  [55 77]]]\n"
     ]
    }
   ],
   "source": [
    "arr = np.array([\n",
    "    [[15,25],[35,69]],\n",
    "    [[56,65],[56,89]],\n",
    "    [[15,94],[55,77]]\n",
    "\n",
    "    ])\n",
    "print(arr)"
   ]
  },
  {
   "cell_type": "code",
   "execution_count": 9,
   "metadata": {},
   "outputs": [
    {
     "name": "stdout",
     "output_type": "stream",
     "text": [
      "69\n"
     ]
    }
   ],
   "source": [
    "print(arr[0, 1, 1])  # Element at depth 0, row 1, column 1 → 4"
   ]
  },
  {
   "cell_type": "markdown",
   "metadata": {},
   "source": [
    "# Slicing in NumPy"
   ]
  },
  {
   "cell_type": "markdown",
   "metadata": {},
   "source": [
    "Slicing follows the pattern:\n",
    "\n",
    "```array[start:stop:step] ```\n",
    "\n"
   ]
  },
  {
   "cell_type": "markdown",
   "metadata": {},
   "source": [
    "### ➤ 1D Array Slicing"
   ]
  },
  {
   "cell_type": "code",
   "execution_count": 11,
   "metadata": {},
   "outputs": [
    {
     "name": "stdout",
     "output_type": "stream",
     "text": [
      "[50 56 69]\n",
      "[10 50 56]\n"
     ]
    }
   ],
   "source": [
    "arr = np.array([10,50,56,69,96,78,15,45,35])\n",
    "\n",
    "print(arr[1:4]) #from index 1 to 3\n",
    "print(arr[:3])  # first three elements"
   ]
  },
  {
   "cell_type": "code",
   "execution_count": 13,
   "metadata": {},
   "outputs": [
    {
     "name": "stdout",
     "output_type": "stream",
     "text": [
      "[10 56 96 15 35]\n",
      "[35 45 15 78 96 69 56 50 10]\n"
     ]
    }
   ],
   "source": [
    "print(arr[::2]) # every second element \n",
    "print(arr[::-1]) # reversed array"
   ]
  },
  {
   "cell_type": "markdown",
   "metadata": {},
   "source": [
    "### ➤ 2D Array Slicing"
   ]
  },
  {
   "cell_type": "code",
   "execution_count": 15,
   "metadata": {},
   "outputs": [
    {
     "name": "stdout",
     "output_type": "stream",
     "text": [
      "[[15 64  9  6]\n",
      " [15 46  1 58]\n",
      " [ 5 63 98 78]]\n"
     ]
    }
   ],
   "source": [
    "arr = np.array([\n",
    "    [15,64,9,6],\n",
    "    [15,46,1,58],\n",
    "    [5,63,98,78]\n",
    "])\n",
    "\n",
    "print(arr)"
   ]
  },
  {
   "cell_type": "code",
   "execution_count": 16,
   "metadata": {},
   "outputs": [
    {
     "name": "stdout",
     "output_type": "stream",
     "text": [
      "[[ 1 58]\n",
      " [98 78]]\n"
     ]
    }
   ],
   "source": [
    "print(arr[1:,2:])  # Bottom-right corner"
   ]
  },
  {
   "cell_type": "code",
   "execution_count": 17,
   "metadata": {},
   "outputs": [
    {
     "name": "stdout",
     "output_type": "stream",
     "text": [
      "[[64  9]\n",
      " [46  1]]\n"
     ]
    }
   ],
   "source": [
    "print(arr[:2, 1:3])   # Top middle elements → "
   ]
  },
  {
   "cell_type": "code",
   "execution_count": 18,
   "metadata": {},
   "outputs": [
    {
     "name": "stdout",
     "output_type": "stream",
     "text": [
      "[15 15  5]\n"
     ]
    }
   ],
   "source": [
    "print(arr[:, 0])      # First column"
   ]
  },
  {
   "cell_type": "code",
   "execution_count": 20,
   "metadata": {},
   "outputs": [
    {
     "name": "stdout",
     "output_type": "stream",
     "text": [
      "[ 6 58 78]\n"
     ]
    }
   ],
   "source": [
    "print(arr[:, 3])      # 4th column"
   ]
  },
  {
   "cell_type": "markdown",
   "metadata": {},
   "source": [
    "## 4. Fancy Indexing (Advanced Techniques) 🎯\n",
    "Select multiple elements at once using a list of indices."
   ]
  },
  {
   "cell_type": "code",
   "execution_count": 21,
   "metadata": {},
   "outputs": [
    {
     "name": "stdout",
     "output_type": "stream",
     "text": [
      "[10 30 50]\n"
     ]
    }
   ],
   "source": [
    "arr = np.array([10, 20, 30, 40, 50])\n",
    "\n",
    "print(arr[[0, 2, 4]]) \n"
   ]
  },
  {
   "cell_type": "markdown",
   "metadata": {},
   "source": [
    "For 2D arrays:"
   ]
  },
  {
   "cell_type": "code",
   "execution_count": null,
   "metadata": {},
   "outputs": [],
   "source": [
    "arr = np.array([\n",
    "    [10, 20, 30],\n",
    "    [40, 50, 60],\n",
    "    [70, 80, 90]\n",
    "])\n",
    "\n",
    "print(arr[[0, 2], [1, 2]])  #(row 0 col 1 and row 2 col 2\n"
   ]
  }
 ],
 "metadata": {
  "kernelspec": {
   "display_name": "base",
   "language": "python",
   "name": "python3"
  },
  "language_info": {
   "codemirror_mode": {
    "name": "ipython",
    "version": 3
   },
   "file_extension": ".py",
   "mimetype": "text/x-python",
   "name": "python",
   "nbconvert_exporter": "python",
   "pygments_lexer": "ipython3",
   "version": "3.12.4"
  }
 },
 "nbformat": 4,
 "nbformat_minor": 2
}
