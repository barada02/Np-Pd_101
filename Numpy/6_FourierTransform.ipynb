{
 "cells": [
  {
   "cell_type": "markdown",
   "metadata": {},
   "source": [
    "# **Fourier Transforms and Advanced Operations in NumPy**"
   ]
  },
  {
   "cell_type": "markdown",
   "metadata": {},
   "source": [
    "## 1.Fourier Transform(```np.fft```)\n",
    "\n",
    "Fourier Transform is used to analyze frequency Componets in Signals, commonly used in signal Processing, audio processig and image analysis."
   ]
  },
  {
   "cell_type": "markdown",
   "metadata": {},
   "source": [
    "#### ➤  Compute Discrete Fourier Transform (DFT)"
   ]
  },
  {
   "cell_type": "code",
   "execution_count": 1,
   "metadata": {},
   "outputs": [],
   "source": [
    "import numpy as np"
   ]
  },
  {
   "cell_type": "code",
   "execution_count": 2,
   "metadata": {},
   "outputs": [
    {
     "name": "stdout",
     "output_type": "stream",
     "text": [
      "Fourier Transform:\n",
      " [ 5.5 +0.00000000e+00j  2.25-4.33012702e-01j -2.75-1.29903811e+00j\n",
      "  1.5 +2.77555756e-17j -2.75+1.29903811e+00j  2.25+4.33012702e-01j]\n"
     ]
    }
   ],
   "source": [
    "#A simple signal\n",
    "signal = np.array([1,2,1,-1,1.5,1])\n",
    "\n",
    "#compute Fourier Tansfor \n",
    "transformed_result = np.fft.fft(signal)\n",
    "print(\"Fourier Transform:\\n\",transformed_result)"
   ]
  }
 ],
 "metadata": {
  "kernelspec": {
   "display_name": "base",
   "language": "python",
   "name": "python3"
  },
  "language_info": {
   "codemirror_mode": {
    "name": "ipython",
    "version": 3
   },
   "file_extension": ".py",
   "mimetype": "text/x-python",
   "name": "python",
   "nbconvert_exporter": "python",
   "pygments_lexer": "ipython3",
   "version": "3.12.4"
  }
 },
 "nbformat": 4,
 "nbformat_minor": 2
}
