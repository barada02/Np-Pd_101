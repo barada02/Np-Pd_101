{
 "cells": [
  {
   "cell_type": "markdown",
   "metadata": {},
   "source": [
    "# **Fourier Transforms and Advanced Operations in NumPy**"
   ]
  },
  {
   "cell_type": "markdown",
   "metadata": {},
   "source": [
    "## 1.Fourier Transform(```np.fft```)\n",
    "\n",
    "Fourier Transform is used to analyze frequency Componets in Signals, commonly used in signal Processing, audio processig and image analysis."
   ]
  },
  {
   "cell_type": "markdown",
   "metadata": {},
   "source": [
    "#### ➤  Compute Discrete Fourier Transform (DFT)"
   ]
  },
  {
   "cell_type": "code",
   "execution_count": 3,
   "metadata": {},
   "outputs": [],
   "source": [
    "import numpy as np"
   ]
  },
  {
   "cell_type": "code",
   "execution_count": 4,
   "metadata": {},
   "outputs": [
    {
     "name": "stdout",
     "output_type": "stream",
     "text": [
      "Fourier Transform:\n",
      " [ 5.5 +0.00000000e+00j  2.25-4.33012702e-01j -2.75-1.29903811e+00j\n",
      "  1.5 +2.77555756e-17j -2.75+1.29903811e+00j  2.25+4.33012702e-01j]\n"
     ]
    }
   ],
   "source": [
    "#A simple signal\n",
    "signal = np.array([1,2,1,-1,1.5,1])\n",
    "\n",
    "#compute Fourier Tansfor \n",
    "transformed_result = np.fft.fft(signal)\n",
    "print(\"Fourier Transform:\\n\",transformed_result)"
   ]
  },
  {
   "cell_type": "markdown",
   "metadata": {},
   "source": [
    "# Fourier Transform: From Time Domain to Frequency Domain\n",
    "\n",
    "## Fundamental Concept\n",
    "The Fourier Transform (FT) is a mathematical operation that decomposes a signal into its constituent frequencies. It converts a signal from the time domain (or spatial domain) to the frequency domain.\n",
    "\n",
    "## Mathematical Definition\n",
    "For a discrete signal x[n] of length N, the Discrete Fourier Transform (DFT) is:\n",
    "\n",
    "$$\n",
    "X[k] = Σ(n=0 to N-1) x[n] * e^(-j2πkn/N)\n",
    "$$\n",
    "\n",
    "Where:\n",
    "- X[k] is the k-th frequency component\n",
    "- x[n] is the n-th sample of the signal\n",
    "- j is the imaginary unit\n",
    "- N is the total number of samples\n",
    "- k ranges from 0 to N-1\n",
    "\n",
    "## NumPy Implementation\n",
    "NumPy's `np.fft.fft()` implements the Fast Fourier Transform (FFT), which is an efficient algorithm for computing the DFT.\n",
    "\n",
    "## Understanding FFT Results\n",
    "For the signal `[1, 2, 1, -1, 1.5, 1]`:\n",
    "\n",
    "1. **Output Structure**\n",
    "   - The FFT returns complex numbers representing amplitude and phase\n",
    "   - First half of the array contains positive frequencies\n",
    "   - Second half contains negative frequencies (in reverse order)\n",
    "   - The DC component (average value) is at index 0\n",
    "\n",
    "2. **Interpreting Complex Numbers**\n",
    "   - Magnitude (absolute value): Strength of the frequency component\n",
    "   - Phase (argument): Time offset of the component\n",
    "\n",
    "3. **Frequency Resolution**\n",
    "   - For a signal of length N, the frequencies range from 0 to (N-1)/N of the sampling rate\n",
    "\n",
    "## Practical Analysis Steps\n",
    "1. Compute FFT: `fft_result = np.fft.fft(signal)`\n",
    "2. Calculate magnitude: `magnitude = np.abs(fft_result)`\n",
    "3. Calculate power spectrum: `power = magnitude**2`\n",
    "4. Get frequency bins: `frequencies = np.fft.fftfreq(len(signal), d=time_step)`\n",
    "\n"
   ]
  },
  {
   "cell_type": "markdown",
   "metadata": {},
   "source": [
    "## ➤ Inverse Fourier Transform (```np.fft.ifft```)\n",
    "We can convert back to the original signal using the **inverse Fourier** Transform:"
   ]
  },
  {
   "cell_type": "code",
   "execution_count": 5,
   "metadata": {},
   "outputs": [
    {
     "name": "stdout",
     "output_type": "stream",
     "text": [
      "Reconstructed Signal: \n",
      " [ 1. +4.62592927e-18j  2. -4.62592927e-18j  1. +4.62592927e-18j\n",
      " -1. -4.62592927e-18j  1.5+4.62592927e-18j  1. -4.62592927e-18j]\n",
      "Reconstructed Signal: \n",
      " [ 1.   2.   1.  -1.   1.5  1. ]\n"
     ]
    }
   ],
   "source": [
    "inversed_to_original_signal = np.fft.ifft(transformed_result)\n",
    "print(\"Reconstructed Signal: \\n\",inversed_to_original_signal)\n",
    "\n",
    "print(\"Reconstructed Signal: \\n\",inversed_to_original_signal.real) # REal part of the output"
   ]
  },
  {
   "cell_type": "markdown",
   "metadata": {},
   "source": [
    "# 2. Fast Fourier Transform (FFT) for Real Signals\n",
    "For real-valued signals, NumPy provides ```rfft()``` and ```irfft()``` for optimized computation."
   ]
  },
  {
   "cell_type": "code",
   "execution_count": 6,
   "metadata": {},
   "outputs": [],
   "source": [
    "\n",
    "signal = np.array([1, 2, 1, -1, 1.5, 1])"
   ]
  },
  {
   "cell_type": "code",
   "execution_count": 7,
   "metadata": {},
   "outputs": [
    {
     "name": "stdout",
     "output_type": "stream",
     "text": [
      "Real FFT:\n",
      " [ 5.5 +0.j          2.25-0.4330127j  -2.75-1.29903811j  1.5 +0.j        ]\n",
      "Inverse Real FFT:\n",
      " [ 1.   2.   1.  -1.   1.5  1. ]\n"
     ]
    }
   ],
   "source": [
    "# Real FFT\n",
    "real_fft = np.fft.rfft(signal)\n",
    "print(\"Real FFT:\\n\", real_fft)\n",
    "\n",
    "# Inverse Real FFT\n",
    "inverse_real_fft = np.fft.irfft(real_fft)\n",
    "print(\"Inverse Real FFT:\\n\", inverse_real_fft)\n"
   ]
  }
 ],
 "metadata": {
  "kernelspec": {
   "display_name": "base",
   "language": "python",
   "name": "python3"
  },
  "language_info": {
   "codemirror_mode": {
    "name": "ipython",
    "version": 3
   },
   "file_extension": ".py",
   "mimetype": "text/x-python",
   "name": "python",
   "nbconvert_exporter": "python",
   "pygments_lexer": "ipython3",
   "version": "3.12.4"
  }
 },
 "nbformat": 4,
 "nbformat_minor": 2
}
