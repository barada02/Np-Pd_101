{
 "cells": [
  {
   "cell_type": "markdown",
   "metadata": {},
   "source": [
    "# **Fourier Transforms and Advanced Operations in NumPy**"
   ]
  },
  {
   "cell_type": "markdown",
   "metadata": {},
   "source": [
    "## 1.Fourier Transform(```np.fft```)\n",
    "\n",
    "Fourier Transform is used to analyze frequency Componets in Signals, commonly used in signal Processing, audio processig and image analysis."
   ]
  },
  {
   "cell_type": "markdown",
   "metadata": {},
   "source": [
    "#### ➤  Compute Discrete Fourier Transform (DFT)"
   ]
  },
  {
   "cell_type": "code",
   "execution_count": 3,
   "metadata": {},
   "outputs": [],
   "source": [
    "import numpy as np"
   ]
  },
  {
   "cell_type": "code",
   "execution_count": 4,
   "metadata": {},
   "outputs": [
    {
     "name": "stdout",
     "output_type": "stream",
     "text": [
      "Fourier Transform:\n",
      " [ 5.5 +0.00000000e+00j  2.25-4.33012702e-01j -2.75-1.29903811e+00j\n",
      "  1.5 +2.77555756e-17j -2.75+1.29903811e+00j  2.25+4.33012702e-01j]\n"
     ]
    }
   ],
   "source": [
    "#A simple signal\n",
    "signal = np.array([1,2,1,-1,1.5,1])\n",
    "\n",
    "#compute Fourier Tansfor \n",
    "transformed_result = np.fft.fft(signal)\n",
    "print(\"Fourier Transform:\\n\",transformed_result)"
   ]
  },
  {
   "cell_type": "markdown",
   "metadata": {},
   "source": [
    "# Fourier Transform: From Time Domain to Frequency Domain\n",
    "\n",
    "## Fundamental Concept\n",
    "The Fourier Transform (FT) is a mathematical operation that decomposes a signal into its constituent frequencies. It converts a signal from the time domain (or spatial domain) to the frequency domain.\n",
    "\n",
    "## Mathematical Definition\n",
    "For a discrete signal x[n] of length N, the Discrete Fourier Transform (DFT) is:\n",
    "\n",
    "$$\n",
    "X[k] = Σ(n=0 to N-1) x[n] * e^(-j2πkn/N)\n",
    "$$\n",
    "\n",
    "Where:\n",
    "- X[k] is the k-th frequency component\n",
    "- x[n] is the n-th sample of the signal\n",
    "- j is the imaginary unit\n",
    "- N is the total number of samples\n",
    "- k ranges from 0 to N-1\n",
    "\n",
    "## NumPy Implementation\n",
    "NumPy's `np.fft.fft()` implements the Fast Fourier Transform (FFT), which is an efficient algorithm for computing the DFT.\n",
    "\n",
    "## Understanding FFT Results\n",
    "For the signal `[1, 2, 1, -1, 1.5, 1]`:\n",
    "\n",
    "1. **Output Structure**\n",
    "   - The FFT returns complex numbers representing amplitude and phase\n",
    "   - First half of the array contains positive frequencies\n",
    "   - Second half contains negative frequencies (in reverse order)\n",
    "   - The DC component (average value) is at index 0\n",
    "\n",
    "2. **Interpreting Complex Numbers**\n",
    "   - Magnitude (absolute value): Strength of the frequency component\n",
    "   - Phase (argument): Time offset of the component\n",
    "\n",
    "3. **Frequency Resolution**\n",
    "   - For a signal of length N, the frequencies range from 0 to (N-1)/N of the sampling rate\n",
    "\n",
    "## Practical Analysis Steps\n",
    "1. Compute FFT: `fft_result = np.fft.fft(signal)`\n",
    "2. Calculate magnitude: `magnitude = np.abs(fft_result)`\n",
    "3. Calculate power spectrum: `power = magnitude**2`\n",
    "4. Get frequency bins: `frequencies = np.fft.fftfreq(len(signal), d=time_step)`\n",
    "\n"
   ]
  },
  {
   "cell_type": "markdown",
   "metadata": {},
   "source": [
    "## ➤ Inverse Fourier Transform (```np.fft.ifft```)\n",
    "We can convert back to the original signal using the **inverse Fourier** Transform:"
   ]
  },
  {
   "cell_type": "code",
   "execution_count": 5,
   "metadata": {},
   "outputs": [
    {
     "name": "stdout",
     "output_type": "stream",
     "text": [
      "Reconstructed Signal: \n",
      " [ 1. +4.62592927e-18j  2. -4.62592927e-18j  1. +4.62592927e-18j\n",
      " -1. -4.62592927e-18j  1.5+4.62592927e-18j  1. -4.62592927e-18j]\n",
      "Reconstructed Signal: \n",
      " [ 1.   2.   1.  -1.   1.5  1. ]\n"
     ]
    }
   ],
   "source": [
    "inversed_to_original_signal = np.fft.ifft(transformed_result)\n",
    "print(\"Reconstructed Signal: \\n\",inversed_to_original_signal)\n",
    "\n",
    "print(\"Reconstructed Signal: \\n\",inversed_to_original_signal.real) # REal part of the output"
   ]
  },
  {
   "cell_type": "markdown",
   "metadata": {},
   "source": [
    "# 2. Fast Fourier Transform (FFT) for Real Signals\n",
    "For real-valued signals, NumPy provides ```rfft()``` and ```irfft()``` for optimized computation."
   ]
  },
  {
   "cell_type": "code",
   "execution_count": 6,
   "metadata": {},
   "outputs": [],
   "source": [
    "\n",
    "signal = np.array([1, 2, 1, -1, 1.5, 1])"
   ]
  },
  {
   "cell_type": "code",
   "execution_count": 7,
   "metadata": {},
   "outputs": [
    {
     "name": "stdout",
     "output_type": "stream",
     "text": [
      "Real FFT:\n",
      " [ 5.5 +0.j          2.25-0.4330127j  -2.75-1.29903811j  1.5 +0.j        ]\n",
      "Inverse Real FFT:\n",
      " [ 1.   2.   1.  -1.   1.5  1. ]\n"
     ]
    }
   ],
   "source": [
    "# Real FFT\n",
    "real_fft = np.fft.rfft(signal)\n",
    "print(\"Real FFT:\\n\", real_fft)\n",
    "\n",
    "# Inverse Real FFT\n",
    "inverse_real_fft = np.fft.irfft(real_fft)\n",
    "print(\"Inverse Real FFT:\\n\", inverse_real_fft)\n"
   ]
  },
  {
   "cell_type": "markdown",
   "metadata": {},
   "source": [
    "# Real FFT (Fast Fourier Transform)\n",
    "\n",
    "The Real FFT is a specialized version of the Fast Fourier Transform algorithm optimized for real-valued input signals, which is common in many practical applications. Here's what makes it special:\n",
    "\n",
    "## Key Characteristics\n",
    "\n",
    "1. **Computational Efficiency**: When your input signal contains only real values (no imaginary components), the real FFT is roughly twice as fast as a standard FFT and requires half the memory.\n",
    "\n",
    "2. **Output Size**: For an input array of length N, the real FFT produces N/2+1 complex output values (compared to N values in a standard FFT).\n",
    "\n",
    "3. **Hermitian Symmetry**: The output takes advantage of the fact that for real inputs, the FFT output has conjugate symmetry. This means F(k) = F*(N-k) where F* is the complex conjugate, allowing us to store only half the frequency components.\n",
    "\n",
    "## Mathematical Foundation\n",
    "\n",
    "The real FFT computes the Discrete Fourier Transform (DFT) of a real sequence:\n",
    "\n",
    "X(k) = Σ[n=0 to N-1] x(n) * e^(-j2πkn/N)\n",
    "\n",
    "Where:\n",
    "- x(n) is the input signal in the time domain\n",
    "- X(k) is the output in the frequency domain\n",
    "- N is the length of the sequence\n",
    "- j is the imaginary unit\n",
    "\n",
    "## NumPy Implementation\n",
    "\n",
    "In NumPy's implementation:\n",
    "- `np.fft.rfft(x)` computes the real FFT\n",
    "- `np.fft.irfft(y)` computes the inverse real FFT\n",
    "\n",
    "## Applications\n",
    "\n",
    "Real FFT is extensively used in:\n",
    "- Audio processing and spectral analysis\n",
    "- Image compression\n",
    "- Signal filtering\n",
    "- Vibration analysis\n",
    "- Feature extraction in machine learning\n",
    "- Fast convolution algorithms\n",
    "\n",
    "## Interpretation of Output\n",
    "\n",
    "The output provides frequency-domain information about your signal:\n",
    "- The first value represents the DC component (zero frequency)\n",
    "- Subsequent values represent increasingly higher frequencies\n",
    "- The magnitude represents the strength of each frequency component\n",
    "- The phase (angle) represents the timing of each component\n",
    "\n",
    "When analyzing the output, remember that the frequency resolution is Fs/N, where Fs is your sampling frequency and N is the number of samples.\n",
    "\n",
    "Would you like me to elaborate on any specific aspect of real FFT, such as its implementation details, interpretation of results, or practical applications?"
   ]
  }
 ],
 "metadata": {
  "kernelspec": {
   "display_name": "base",
   "language": "python",
   "name": "python3"
  },
  "language_info": {
   "codemirror_mode": {
    "name": "ipython",
    "version": 3
   },
   "file_extension": ".py",
   "mimetype": "text/x-python",
   "name": "python",
   "nbconvert_exporter": "python",
   "pygments_lexer": "ipython3",
   "version": "3.12.4"
  }
 },
 "nbformat": 4,
 "nbformat_minor": 2
}
